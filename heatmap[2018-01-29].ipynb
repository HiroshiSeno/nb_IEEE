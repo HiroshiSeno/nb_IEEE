{
 "cells": [
  {
   "cell_type": "code",
   "execution_count": 2,
   "metadata": {
    "collapsed": true
   },
   "outputs": [],
   "source": [
    "import numpy as np\n",
    "import matplotlib.pyplot as plt\n",
    "import os\n",
    "import subprocess\n",
    "import matplotlib\n",
    "matplotlib.font_manager._rebuild()\n",
    "plt.rcParams['font.family'] = 'Times New Roman' #全体のフォントを設定\n",
    "%matplotlib inline"
   ]
  },
  {
   "cell_type": "code",
   "execution_count": 3,
   "metadata": {
    "collapsed": true
   },
   "outputs": [],
   "source": [
    "import seaborn as sns"
   ]
  },
  {
   "cell_type": "markdown",
   "metadata": {},
   "source": [
    "## 右下"
   ]
  },
  {
   "cell_type": "code",
   "execution_count": 4,
   "metadata": {
    "collapsed": true
   },
   "outputs": [],
   "source": [
    "data = [[np.nan, np.nan, np.nan, np.nan],\n",
    "        [np.nan, np.nan, np.nan, 13],\n",
    "        [np.nan, np.nan, 8, 4],\n",
    "        [np.nan, np.nan, 6, 3]]"
   ]
  },
  {
   "cell_type": "code",
   "execution_count": 5,
   "metadata": {},
   "outputs": [],
   "source": [
    "sns.set(font_scale=3)\n",
    "sns.heatmap(data, annot=True, fmt=\"1.0f\", cmap='Blues_r', vmin=2, vmax=13, cbar=False)\n",
    "plt.xticks([0.5,1.5,2.5,3.5],[0.45, 1.05, 1.65, 2.25], size=28)\n",
    "plt.yticks([0.5,1.5,2.5,3.5],[-8, -6, -4, -2], size=28)\n",
    "plt.xlabel(\"Cooling width (mm)\", size=28)\n",
    "plt.ylabel(u\"Cooling temperature (°C)\", size=28)\n",
    "plt.tight_layout()\n",
    "plt.savefig('/mnt/recordings/AnalysisResult/Seno/simulation/Mahajan/20180129/heatmap/heatmap_rd.png', dpi=600)\n",
    "plt.close()"
   ]
  },
  {
   "cell_type": "markdown",
   "metadata": {},
   "source": [
    "## 右"
   ]
  },
  {
   "cell_type": "code",
   "execution_count": 9,
   "metadata": {
    "collapsed": true
   },
   "outputs": [],
   "source": [
    "data = [[np.nan, 10, 6, 3],\n",
    "        [10, 3, 2, 2],\n",
    "        [5, 3, 2, 2],\n",
    "        [5, 3, 2, 2]]"
   ]
  },
  {
   "cell_type": "code",
   "execution_count": 10,
   "metadata": {},
   "outputs": [],
   "source": [
    "sns.set(font_scale=3)\n",
    "sns.heatmap(data, annot=True, fmt=\"1.0f\", cmap='Blues_r', vmin=2, vmax=13, cbar=False)\n",
    "plt.xticks([0.5,1.5,2.5,3.5],[0.45, 1.05, 1.65, 2.25], size=28)\n",
    "plt.yticks([0.5,1.5,2.5,3.5],[-8, -6, -4, -2], size=28)\n",
    "plt.xlabel(\"Cooling width (mm)\", size=28)\n",
    "plt.ylabel(u\"Cooling temperature (°C)\", size=28)\n",
    "plt.tight_layout()\n",
    "plt.savefig('/mnt/recordings/AnalysisResult/Seno/simulation/Mahajan/20180129/heatmap/heatmap_r.png', dpi=600)\n",
    "plt.close()"
   ]
  },
  {
   "cell_type": "markdown",
   "metadata": {},
   "source": [
    "## 右上"
   ]
  },
  {
   "cell_type": "code",
   "execution_count": 11,
   "metadata": {
    "collapsed": true
   },
   "outputs": [],
   "source": [
    "data = [[np.nan, np.nan, 11, np.nan],\n",
    "        [np.nan, np.nan, np.nan, np.nan],\n",
    "        [np.nan, np.nan, 9, np.nan],\n",
    "        [np.nan, 12, 7, 3]]"
   ]
  },
  {
   "cell_type": "code",
   "execution_count": 12,
   "metadata": {},
   "outputs": [],
   "source": [
    "sns.set(font_scale=3)\n",
    "sns.heatmap(data, annot=True, fmt=\"1.0f\", cmap='Blues_r', vmin=2, vmax=13, cbar=False)\n",
    "plt.xticks([0.5,1.5,2.5,3.5],[0.45, 1.05, 1.65, 2.25], size=28)\n",
    "plt.yticks([0.5,1.5,2.5,3.5],[-8, -6, -4, -2], size=28)\n",
    "plt.xlabel(\"Cooling width (mm)\", size=28)\n",
    "plt.ylabel(u\"Cooling temperature (°C)\", size=28)\n",
    "plt.tight_layout()\n",
    "plt.savefig('/mnt/recordings/AnalysisResult/Seno/simulation/Mahajan/20180129/heatmap/heatmap_ru.png', dpi=600)\n",
    "plt.close()"
   ]
  },
  {
   "cell_type": "markdown",
   "metadata": {},
   "source": [
    "## 上"
   ]
  },
  {
   "cell_type": "code",
   "execution_count": 13,
   "metadata": {
    "collapsed": true
   },
   "outputs": [],
   "source": [
    "data = [[np.nan, np.nan, np.nan, np.nan],\n",
    "        [np.nan, np.nan, np.nan, np.nan],\n",
    "        [np.nan, np.nan, np.nan, np.nan],\n",
    "        [np.nan, np.nan, 7, np.nan]]"
   ]
  },
  {
   "cell_type": "code",
   "execution_count": 14,
   "metadata": {},
   "outputs": [],
   "source": [
    "sns.set(font_scale=3)\n",
    "sns.heatmap(data, annot=True, fmt=\"1.0f\", cmap='Blues_r', vmin=2, vmax=13, cbar=False)\n",
    "plt.xticks([0.5,1.5,2.5,3.5],[0.45, 1.05, 1.65, 2.25], size=28)\n",
    "plt.yticks([0.5,1.5,2.5,3.5],[-8, -6, -4, -2], size=28)\n",
    "plt.xlabel(\"Cooling width (mm)\", size=28)\n",
    "plt.ylabel(u\"Cooling temperature (°C)\", size=28)\n",
    "plt.tight_layout()\n",
    "plt.savefig('/mnt/recordings/AnalysisResult/Seno/simulation/Mahajan/20180129/heatmap/heatmap_u.png', dpi=600)\n",
    "plt.close()"
   ]
  },
  {
   "cell_type": "code",
   "execution_count": null,
   "metadata": {
    "collapsed": true
   },
   "outputs": [],
   "source": []
  }
 ],
 "metadata": {
  "kernelspec": {
   "display_name": "Python 2",
   "language": "python",
   "name": "python2"
  },
  "language_info": {
   "codemirror_mode": {
    "name": "ipython",
    "version": 2
   },
   "file_extension": ".py",
   "mimetype": "text/x-python",
   "name": "python",
   "nbconvert_exporter": "python",
   "pygments_lexer": "ipython2",
   "version": "2.7.13"
  }
 },
 "nbformat": 4,
 "nbformat_minor": 2
}
