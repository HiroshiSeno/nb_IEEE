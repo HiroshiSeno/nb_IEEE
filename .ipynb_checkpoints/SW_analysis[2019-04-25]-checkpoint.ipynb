{
 "cells": [
  {
   "cell_type": "code",
   "execution_count": 1,
   "metadata": {
    "collapsed": false
   },
   "outputs": [
    {
     "name": "stderr",
     "output_type": "stream",
     "text": [
      "/opt/conda/lib/python3.5/site-packages/matplotlib/font_manager.py:273: UserWarning: Matplotlib is building the font cache using fc-list. This may take a moment.\n",
      "  warnings.warn('Matplotlib is building the font cache using fc-list. This may take a moment.')\n",
      "/opt/conda/lib/python3.5/site-packages/matplotlib/font_manager.py:273: UserWarning: Matplotlib is building the font cache using fc-list. This may take a moment.\n",
      "  warnings.warn('Matplotlib is building the font cache using fc-list. This may take a moment.')\n"
     ]
    }
   ],
   "source": [
    "import numpy as np\n",
    "import matplotlib.pyplot as plt\n",
    "import os\n",
    "import subprocess\n",
    "import matplotlib\n",
    "matplotlib.font_manager._rebuild()\n",
    "plt.rcParams['font.family'] = 'Times New Roman' #全体のフォントを設定\n",
    "%matplotlib inline"
   ]
  },
  {
   "cell_type": "code",
   "execution_count": 5,
   "metadata": {
    "collapsed": true
   },
   "outputs": [],
   "source": [
    "import sys\n",
    "sys.path.append(\"/notebooks/nb_IEEE/opmap/\")"
   ]
  },
  {
   "cell_type": "code",
   "execution_count": 6,
   "metadata": {
    "collapsed": false
   },
   "outputs": [],
   "source": [
    "import opmap\n",
    "from opmap.rawCam import RawCam\n",
    "from opmap.vmemMap import VmemMap\n",
    "from opmap.apdMap import APDMap\n",
    "from opmap.phaseMapHilbert import PhaseMapHilbert as PhaseMap\n",
    "from opmap.phaseVarianceMap import PhaseVarianceMap"
   ]
  },
  {
   "cell_type": "code",
   "execution_count": 7,
   "metadata": {
    "collapsed": true
   },
   "outputs": [],
   "source": [
    "def FFT(vmem_1d, N, dt, fc_low=None, fc_high=None):\n",
    "    fq = np.linspace(0, 1.0/dt, N)\n",
    "    F = np.fft.fft(vmem_1d)\n",
    "    if fc_low is not None:\n",
    "        F[(fq <= fc_low)] = 0\n",
    "    if fc_high is not None:\n",
    "        F[(fq >= fc_high)] = 0\n",
    "    \n",
    "    F_abs = np.abs(F)\n",
    "    F_abs_amp = F_abs/N\n",
    "#     F_abs_amp[0] = F_abs_amp[0]/2\n",
    "    F_abs_amp[0] = 0\n",
    "    \n",
    "    F_ifft = np.fft.ifft(F)\n",
    "    F_ifft_real = F_ifft.real * 2\n",
    "    \n",
    "    return F_ifft_real"
   ]
  },
  {
   "cell_type": "code",
   "execution_count": 8,
   "metadata": {
    "collapsed": true
   },
   "outputs": [],
   "source": [
    "def isochronal(pmap, threshold):\n",
    "    contour = np.zeros_like(pmap.data)\n",
    "\n",
    "    for i in range(contour.shape[1]):\n",
    "        for j in range(contour.shape[2]):        \n",
    "            if pmap.roi[i,j] == 1:\n",
    "                counter = 0\n",
    "                for time in range(contour.shape[0]):\n",
    "                    if time == 0:\n",
    "                        pass\n",
    "                    elif ((pmap.data[time-1, i, j] < threshold) * (pmap.data[time, i, j] > threshold)) == 1:\n",
    "                        counter = 0\n",
    "\n",
    "                    contour[time, i, j] = counter\n",
    "                    counter += 1\n",
    "                \n",
    "    return contour"
   ]
  },
  {
   "cell_type": "markdown",
   "metadata": {},
   "source": [
    "## 冷却実験のデータ総解析"
   ]
  },
  {
   "cell_type": "code",
   "execution_count": 9,
   "metadata": {
    "collapsed": true
   },
   "outputs": [],
   "source": [
    "data_dir = ['20181218-1/C001H001S0007/', '20181218-1/C001H001S0008/', '20181218-1/C001H001S0009/',\n",
    "            '20181218-1/C001H001S0011/', '20181218-1/C001H001S0017/', '20181218-1/C001H001S0024/',\n",
    "            '20181220-1/C001H001S0007/', '20181220-1/C001H001S0009/', '20181220-1/C001H001S0010/',\n",
    "            '20181220-1/C001H001S0014/', '20181220-1/C001H001S0015/', '20181220-1/C001H001S0022/']"
   ]
  },
  {
   "cell_type": "code",
   "execution_count": null,
   "metadata": {
    "collapsed": false
   },
   "outputs": [
    {
     "name": "stdout",
     "output_type": "stream",
     "text": [
      "/mnt/Jalife/ExperimentData/20181218-1/C001H001S0007/\n"
     ]
    }
   ],
   "source": [
    "parent_path = '/mnt/Jalife/ExperimentData/'\n",
    "for folder in data_dir:\n",
    "    data_path = os.path.join(parent_path, folder)\n",
    "    print(data_path)\n",
    "    start = 29000\n",
    "    end = 30000\n",
    "    date = data_path.split('/')[-3]\n",
    "    session_name = data_path.split('/')[-2]\n",
    "    save_parent = os.path.join('/mnt/Omer/Project/03.LinearRegionalCooling/AnalysisResult/Experiment/', '%s/%s/%s-%s' % (date, session_name, start, end))\n",
    "    \n",
    "    raw = RawCam(path=data_path, cam_type='sa4',\n",
    "              image_width=256, image_height=256, frame_start=start, frame_end=end)\n",
    "    \n",
    "    vmem = VmemMap(raw)\n",
    "    vmem.setDiffRange(diff_min=20)\n",
    "    vmem.morphROI(closing=4)\n",
    "    vmem.morphROI(erosion=8)\n",
    "\n",
    "    for i in range(vmem.data.shape[1]):\n",
    "        for j in range(vmem.data.shape[2]):\n",
    "            vmem.data[:, i, j] = FFT(vmem.data[:, i, j], vmem.data.shape[0], 0.002, fc_low=2, fc_high=50)\n",
    "    vmem.smooth(size=9)\n",
    "    \n",
    "    pmap = PhaseMap(vmem)\n",
    "\n",
    "    if not os.path.exists(os.path.join(save_parent, 'pmap')):\n",
    "        os.makedirs(os.path.join(save_parent, 'pmap'))\n",
    "    \n",
    "    pmap.saveImage(os.path.join(save_parent, 'pmap'), img_type='png', skip=1)\n",
    "    cmd = 'ffmpeg -r 30 -y -i \"{0}/pmap/%06d.png\" -c:v libx264 -pix_fmt yuv420p -qscale 0 \"{0}/pmap_movie.mp4\"'.format(save_parent)\n",
    "    subprocess.call(cmd, shell=True)"
   ]
  },
  {
   "cell_type": "code",
   "execution_count": null,
   "metadata": {
    "collapsed": true
   },
   "outputs": [],
   "source": []
  }
 ],
 "metadata": {
  "kernelspec": {
   "display_name": "Python [Root]",
   "language": "python",
   "name": "Python [Root]"
  },
  "language_info": {
   "codemirror_mode": {
    "name": "ipython",
    "version": 3
   },
   "file_extension": ".py",
   "mimetype": "text/x-python",
   "name": "python",
   "nbconvert_exporter": "python",
   "pygments_lexer": "ipython3",
   "version": "3.5.2"
  }
 },
 "nbformat": 4,
 "nbformat_minor": 2
}
