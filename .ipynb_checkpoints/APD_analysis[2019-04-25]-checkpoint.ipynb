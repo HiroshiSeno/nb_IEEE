{
 "cells": [
  {
   "cell_type": "code",
   "execution_count": 1,
   "metadata": {
    "collapsed": false
   },
   "outputs": [
    {
     "name": "stderr",
     "output_type": "stream",
     "text": [
      "/opt/conda/lib/python3.5/site-packages/matplotlib/font_manager.py:273: UserWarning: Matplotlib is building the font cache using fc-list. This may take a moment.\n",
      "  warnings.warn('Matplotlib is building the font cache using fc-list. This may take a moment.')\n",
      "/opt/conda/lib/python3.5/site-packages/matplotlib/font_manager.py:273: UserWarning: Matplotlib is building the font cache using fc-list. This may take a moment.\n",
      "  warnings.warn('Matplotlib is building the font cache using fc-list. This may take a moment.')\n"
     ]
    }
   ],
   "source": [
    "import numpy as np\n",
    "import matplotlib.pyplot as plt\n",
    "import os\n",
    "import subprocess\n",
    "import matplotlib\n",
    "import cv2\n",
    "from scipy.ndimage.filters import gaussian_filter1d\n",
    "matplotlib.font_manager._rebuild()\n",
    "plt.rcParams['font.family'] = 'Times New Roman' #全体のフォントを設定\n",
    "%matplotlib inline"
   ]
  },
  {
   "cell_type": "code",
   "execution_count": 2,
   "metadata": {
    "collapsed": true
   },
   "outputs": [],
   "source": [
    "import sys\n",
    "sys.path.append(\"/notebooks/nb_IEEE/opmap/\")"
   ]
  },
  {
   "cell_type": "code",
   "execution_count": 3,
   "metadata": {
    "collapsed": false
   },
   "outputs": [],
   "source": [
    "import opmap\n",
    "from opmap.rawCam import RawCam\n",
    "from opmap.vmemMap import VmemMap\n",
    "from opmap.apdMap import APDMap\n",
    "from opmap.phaseMapHilbert import PhaseMapHilbert as PhaseMap\n",
    "from opmap.phaseVarianceMap import PhaseVarianceMap"
   ]
  },
  {
   "cell_type": "code",
   "execution_count": 4,
   "metadata": {
    "collapsed": true
   },
   "outputs": [],
   "source": [
    "def FFT(vmem_1d, N, dt, fc_low=None, fc_high=None):\n",
    "    fq = np.linspace(0, 1.0/dt, N)\n",
    "    F = np.fft.fft(vmem_1d)\n",
    "    if fc_low is not None:\n",
    "        F[(fq <= fc_low)] = 0\n",
    "    if fc_high is not None:\n",
    "        F[(fq >= fc_high)] = 0\n",
    "    \n",
    "    F_abs = np.abs(F)\n",
    "    F_abs_amp = F_abs/N\n",
    "#     F_abs_amp[0] = F_abs_amp[0]/2\n",
    "    F_abs_amp[0] = 0\n",
    "    \n",
    "    F_ifft = np.fft.ifft(F)\n",
    "    F_ifft_real = F_ifft.real * 2\n",
    "    \n",
    "    return F_ifft_real"
   ]
  },
  {
   "cell_type": "code",
   "execution_count": 5,
   "metadata": {
    "collapsed": true
   },
   "outputs": [],
   "source": [
    "def isochronal(pmap, threshold):\n",
    "    contour = np.zeros_like(pmap.data)\n",
    "\n",
    "    for i in range(contour.shape[1]):\n",
    "        for j in range(contour.shape[2]):        \n",
    "            if pmap.roi[i,j] == 1:\n",
    "                counter = 0\n",
    "                for time in range(contour.shape[0]):\n",
    "                    if time == 0:\n",
    "                        pass\n",
    "                    elif ((pmap.data[time-1, i, j] < threshold) * (pmap.data[time, i, j] > threshold)) == 1:\n",
    "                        counter = 0\n",
    "\n",
    "                    contour[time, i, j] = counter\n",
    "                    counter += 1\n",
    "                \n",
    "    return contour"
   ]
  },
  {
   "cell_type": "code",
   "execution_count": 6,
   "metadata": {
    "collapsed": true
   },
   "outputs": [],
   "source": [
    "parent_path = '/mnt/Jalife/ExperimentData/'"
   ]
  },
  {
   "cell_type": "markdown",
   "metadata": {},
   "source": [
    "## APD解析"
   ]
  },
  {
   "cell_type": "markdown",
   "metadata": {},
   "source": [
    "### 20181121-1/C001H001S0002"
   ]
  },
  {
   "cell_type": "code",
   "execution_count": 56,
   "metadata": {
    "collapsed": false
   },
   "outputs": [],
   "source": [
    "data_path = os.path.join(parent_path, '20181121-1/C001H001S0002')\n",
    "start = 0\n",
    "end = -1\n",
    "date = data_path.split('/')[-3]\n",
    "session_name = data_path.split('/')[-2]\n",
    "save_parent = os.path.join('/mnt/Omer/Project/03.LinearRegionalCooling/AnalysisResult/Experiment/',\n",
    "                           '%s/%s/%s-%s' % (date, session_name, start, end))\n",
    "\n",
    "raw = RawCam(path=data_path, cam_type='sa4',\n",
    "             image_width=256, image_height=256, frame_start=start, frame_end=end)\n",
    "vmem = VmemMap(raw)\n",
    "\n",
    "roi_png = cv2.imread('/mnt/Omer/Project/03.LinearRegionalCooling/AnalysisResult/Experiment/20181121-1/C001H001S0002/roi.png', cv2.IMREAD_GRAYSCALE)\n",
    "roi_png = roi_png/255.0\n",
    "\n",
    "vmem.roi = roi_png\n",
    "vmem.data = vmem.data * vmem.roi\n",
    "\n",
    "for i in range(vmem.data.shape[1]):\n",
    "    for j in range(vmem.data.shape[2]):\n",
    "        vmem.data[:, i, j] = FFT(vmem.data[:, i, j], vmem.data.shape[0], 0.002, fc_low=1, fc_high=50)\n",
    "vmem.smooth(size=12)"
   ]
  },
  {
   "cell_type": "code",
   "execution_count": 57,
   "metadata": {
    "collapsed": true
   },
   "outputs": [],
   "source": [
    "apd2 = APDMap(vmem, width=256, max_beats=5, thre_up=0.3, thre_down=0.1, sigma_t=9)"
   ]
  },
  {
   "cell_type": "code",
   "execution_count": 86,
   "metadata": {
    "collapsed": true
   },
   "outputs": [],
   "source": [
    "data_path = os.path.join(parent_path, '20181121-1/C001H001S0002')\n",
    "start = 0\n",
    "end = -1\n",
    "date = data_path.split('/')[-3]\n",
    "session_name = data_path.split('/')[-2]\n",
    "save_parent = os.path.join('/mnt/Omer/Project/03.LinearRegionalCooling/AnalysisResult/Experiment/',\n",
    "                           '%s/%s/%s-%s' % (date, session_name, start, end))\n",
    "\n",
    "for i in range(3):\n",
    "    plt.imsave('/mnt/Omer/Project/03.LinearRegionalCooling/AnalysisResult/Experiment/20181121-1/C001H001S0002/0--1/APD_color_%s.png' % i,\n",
    "               apd2.data[i+1]*2, vmin=150, vmax=270, cmap='jet')\n",
    "    plt.imsave('/mnt/Omer/Project/03.LinearRegionalCooling/AnalysisResult/Experiment/20181121-1/C001H001S0002/0--1/APD_gray_%s.png' % i,\n",
    "               apd2.data[i+1]*2, vmin=150, vmax=270, cmap='gray')    "
   ]
  },
  {
   "cell_type": "markdown",
   "metadata": {},
   "source": [
    "### 20181121-1/C001H001S0003"
   ]
  },
  {
   "cell_type": "code",
   "execution_count": 59,
   "metadata": {
    "collapsed": true
   },
   "outputs": [],
   "source": [
    "data_path = os.path.join(parent_path, '20181121-1/C001H001S0003/')\n",
    "start = 6500\n",
    "end = 7500\n",
    "date = data_path.split('/')[-3]\n",
    "session_name = data_path.split('/')[-2]\n",
    "save_parent = os.path.join('/mnt/Omer/Project/03.LinearRegionalCooling/AnalysisResult/Experiment/',\n",
    "                           '%s/%s/%s-%s' % (date, session_name, start, end))\n",
    "\n",
    "raw = RawCam(path=data_path, cam_type='sa4',\n",
    "             image_width=256, image_height=256, frame_start=start, frame_end=end)\n",
    "vmem = VmemMap(raw)\n",
    "\n",
    "roi_png = cv2.imread('/mnt/Omer/Project/03.LinearRegionalCooling/AnalysisResult/Experiment/20181121-1/C001H001S0002/roi.png', cv2.IMREAD_GRAYSCALE)\n",
    "roi_png = roi_png/255.0\n",
    "\n",
    "vmem.roi = roi_png\n",
    "vmem.data = vmem.data * vmem.roi\n",
    "\n",
    "for i in range(vmem.data.shape[1]):\n",
    "    for j in range(vmem.data.shape[2]):\n",
    "        vmem.data[:, i, j] = FFT(vmem.data[:, i, j], vmem.data.shape[0], 0.002, fc_low=1, fc_high=50)\n",
    "vmem.smooth(size=12)\n",
    "\n",
    "apd3 = APDMap(vmem, width=256, max_beats=5, thre_up=0.3, thre_down=0.1, sigma_t=9)"
   ]
  },
  {
   "cell_type": "code",
   "execution_count": 87,
   "metadata": {
    "collapsed": false
   },
   "outputs": [],
   "source": [
    "data_path = os.path.join(parent_path, '20181121-1/C001H001S0003/')\n",
    "start = 6500\n",
    "end = 7500\n",
    "date = data_path.split('/')[-3]\n",
    "session_name = data_path.split('/')[-2]\n",
    "save_parent = os.path.join('/mnt/Omer/Project/03.LinearRegionalCooling/AnalysisResult/Experiment/',\n",
    "                           '%s/%s/%s-%s' % (date, session_name, start, end))\n",
    "\n",
    "for i in range(3):\n",
    "    plt.imsave(os.path.join(save_parent, 'APD_color_%s.png' % i),\n",
    "               apd3.data[i+1]*2, vmin=150, vmax=270, cmap='jet')\n",
    "    plt.imsave(os.path.join(save_parent, 'APD_gray_%s.png' % i),\n",
    "               apd3.data[i+1]*2, vmin=150, vmax=270, cmap='gray')"
   ]
  },
  {
   "cell_type": "code",
   "execution_count": 88,
   "metadata": {
    "collapsed": false
   },
   "outputs": [],
   "source": [
    "plt.imshow(apd.data[0]*2, vmin=150, vmax=270, cmap='jet')\n",
    "plt.colorbar()\n",
    "plt.savefig('/mnt/Omer/Project/03.LinearRegionalCooling/AnalysisResult/Experiment/20181121-1/C001H001S0003/jet_colorbar.png')\n",
    "plt.close()\n",
    "\n",
    "plt.imshow(apd.data[0]*2, vmin=150, vmax=270, cmap='gray')\n",
    "plt.colorbar()\n",
    "plt.savefig('/mnt/Omer/Project/03.LinearRegionalCooling/AnalysisResult/Experiment/20181121-1/C001H001S0003/gray_colorbar.png')\n",
    "plt.close()"
   ]
  },
  {
   "cell_type": "markdown",
   "metadata": {},
   "source": [
    "### 20181121-1/C001H001S0004"
   ]
  },
  {
   "cell_type": "code",
   "execution_count": 62,
   "metadata": {
    "collapsed": true
   },
   "outputs": [],
   "source": [
    "data_path = os.path.join(parent_path, '20181121-1/C001H001S0004/')\n",
    "start = 4000\n",
    "end = -1\n",
    "date = data_path.split('/')[-3]\n",
    "session_name = data_path.split('/')[-2]\n",
    "save_parent = os.path.join('/mnt/Omer/Project/03.LinearRegionalCooling/AnalysisResult/Experiment/',\n",
    "                           '%s/%s/%s-%s' % (date, session_name, start, end))\n",
    "\n",
    "raw = RawCam(path=data_path, cam_type='sa4',\n",
    "             image_width=256, image_height=256, frame_start=start, frame_end=end)\n",
    "vmem = VmemMap(raw)\n",
    "\n",
    "roi_png = cv2.imread('/mnt/Omer/Project/03.LinearRegionalCooling/AnalysisResult/Experiment/20181121-1/C001H001S0002/roi.png', cv2.IMREAD_GRAYSCALE)\n",
    "roi_png = roi_png/255.0\n",
    "\n",
    "vmem.roi = roi_png\n",
    "vmem.data = vmem.data * vmem.roi\n",
    "\n",
    "for i in range(vmem.data.shape[1]):\n",
    "    for j in range(vmem.data.shape[2]):\n",
    "        vmem.data[:, i, j] = FFT(vmem.data[:, i, j], vmem.data.shape[0], 0.002, fc_low=1, fc_high=50)\n",
    "vmem.smooth(size=12)\n",
    "\n",
    "apd4 = APDMap(vmem, width=256, max_beats=5, thre_up=0.3, thre_down=0.1, sigma_t=9)"
   ]
  },
  {
   "cell_type": "code",
   "execution_count": 89,
   "metadata": {
    "collapsed": true
   },
   "outputs": [],
   "source": [
    "data_path = os.path.join(parent_path, '20181121-1/C001H001S0004/')\n",
    "start = 4000\n",
    "end = -1\n",
    "date = data_path.split('/')[-3]\n",
    "session_name = data_path.split('/')[-2]\n",
    "save_parent = os.path.join('/mnt/Omer/Project/03.LinearRegionalCooling/AnalysisResult/Experiment/',\n",
    "                           '%s/%s/%s-%s' % (date, session_name, start, end))\n",
    "\n",
    "for i in range(3):\n",
    "    plt.imsave(os.path.join(save_parent, 'APD_color_%s.png' % i),\n",
    "               apd4.data[i+1]*2, vmin=150, vmax=270, cmap='jet')\n",
    "    plt.imsave(os.path.join(save_parent, 'APD_gray_%s.png' % i),\n",
    "               apd4.data[i+1]*2, vmin=150, vmax=270, cmap='gray')"
   ]
  },
  {
   "cell_type": "markdown",
   "metadata": {},
   "source": [
    "### 20181121-1/C001H001S0005"
   ]
  },
  {
   "cell_type": "code",
   "execution_count": 64,
   "metadata": {
    "collapsed": true
   },
   "outputs": [],
   "source": [
    "data_path = os.path.join(parent_path, '20181121-1/C001H001S0005/')\n",
    "start = 8000\n",
    "end = -1\n",
    "date = data_path.split('/')[-3]\n",
    "session_name = data_path.split('/')[-2]\n",
    "save_parent = os.path.join('/mnt/Omer/Project/03.LinearRegionalCooling/AnalysisResult/Experiment/',\n",
    "                           '%s/%s/%s-%s' % (date, session_name, start, end))\n",
    "\n",
    "raw = RawCam(path=data_path, cam_type='sa4',\n",
    "             image_width=256, image_height=256, frame_start=start, frame_end=end)\n",
    "vmem = VmemMap(raw)\n",
    "\n",
    "roi_png = cv2.imread('/mnt/Omer/Project/03.LinearRegionalCooling/AnalysisResult/Experiment/20181121-1/C001H001S0002/roi.png', cv2.IMREAD_GRAYSCALE)\n",
    "roi_png = roi_png/255.0\n",
    "\n",
    "vmem.roi = roi_png\n",
    "vmem.data = vmem.data * vmem.roi\n",
    "\n",
    "for i in range(vmem.data.shape[1]):\n",
    "    for j in range(vmem.data.shape[2]):\n",
    "        vmem.data[:, i, j] = FFT(vmem.data[:, i, j], vmem.data.shape[0], 0.002, fc_low=1, fc_high=50)\n",
    "vmem.smooth(size=12)\n",
    "\n",
    "apd5 = APDMap(vmem, width=256, max_beats=5, thre_up=0.3, thre_down=0.1, sigma_t=9)"
   ]
  },
  {
   "cell_type": "code",
   "execution_count": 76,
   "metadata": {
    "collapsed": false
   },
   "outputs": [
    {
     "data": {
      "text/plain": [
       "<matplotlib.image.AxesImage at 0x7f507f079550>"
      ]
     },
     "execution_count": 76,
     "metadata": {},
     "output_type": "execute_result"
    },
    {
     "data": {
      "image/png": "[encoded data removed]",
      "text/plain": [
       "<matplotlib.figure.Figure at 0x7f507fb201d0>"
      ]
     },
     "metadata": {},
     "output_type": "display_data"
    }
   ],
   "source": [
    "plt.imshow(apd5.data[1]*2, vmin=150, vmax=270, cmap='gray')"
   ]
  },
  {
   "cell_type": "code",
   "execution_count": 90,
   "metadata": {
    "collapsed": true
   },
   "outputs": [],
   "source": [
    "data_path = os.path.join(parent_path, '20181121-1/C001H001S0005/')\n",
    "start = 4000\n",
    "end = -1\n",
    "date = data_path.split('/')[-3]\n",
    "session_name = data_path.split('/')[-2]\n",
    "save_parent = os.path.join('/mnt/Omer/Project/03.LinearRegionalCooling/AnalysisResult/Experiment/',\n",
    "                           '%s/%s/%s-%s' % (date, session_name, start, end))\n",
    "\n",
    "for i in range(3):\n",
    "    plt.imsave(os.path.join(save_parent, 'APD_color_%s.png' % i),\n",
    "               apd5.data[i+1]*2, vmin=150, vmax=270, cmap='jet')\n",
    "    plt.imsave(os.path.join(save_parent, 'APD_gray_%s.png' % i),\n",
    "               apd5.data[i+1]*2, vmin=150, vmax=270, cmap='gray')"
   ]
  },
  {
   "cell_type": "markdown",
   "metadata": {},
   "source": [
    "### 20181121-1/C001H001S0006"
   ]
  },
  {
   "cell_type": "code",
   "execution_count": 67,
   "metadata": {
    "collapsed": false
   },
   "outputs": [],
   "source": [
    "data_path = os.path.join(parent_path, '20181121-1/C001H001S0006/')\n",
    "start = 0\n",
    "end = -1\n",
    "date = data_path.split('/')[-3]\n",
    "session_name = data_path.split('/')[-2]\n",
    "save_parent = os.path.join('/mnt/Omer/Project/03.LinearRegionalCooling/AnalysisResult/Experiment/',\n",
    "                           '%s/%s/%s-%s' % (date, session_name, start, end))\n",
    "\n",
    "raw = RawCam(path=data_path, cam_type='sa4',\n",
    "             image_width=256, image_height=256, frame_start=start, frame_end=end)\n",
    "vmem = VmemMap(raw)\n",
    "\n",
    "roi_png = cv2.imread('/mnt/Omer/Project/03.LinearRegionalCooling/AnalysisResult/Experiment/20181121-1/C001H001S0002/roi.png', cv2.IMREAD_GRAYSCALE)\n",
    "roi_png = roi_png/255.0\n",
    "\n",
    "vmem.roi = roi_png\n",
    "vmem.data = vmem.data * vmem.roi\n",
    "\n",
    "for i in range(vmem.data.shape[1]):\n",
    "    for j in range(vmem.data.shape[2]):\n",
    "        vmem.data[:, i, j] = FFT(vmem.data[:, i, j], vmem.data.shape[0], 0.002, fc_low=1, fc_high=50)\n",
    "vmem.smooth(size=12)\n",
    "\n",
    "apd6 = APDMap(vmem, width=256, max_beats=3, thre_up=0.3, thre_down=0.1, sigma_t=9)"
   ]
  },
  {
   "cell_type": "code",
   "execution_count": 91,
   "metadata": {
    "collapsed": false
   },
   "outputs": [],
   "source": [
    "data_path = os.path.join(parent_path, '20181121-1/C001H001S0006/')\n",
    "start = 0\n",
    "end = -1\n",
    "date = data_path.split('/')[-3]\n",
    "session_name = data_path.split('/')[-2]\n",
    "save_parent = os.path.join('/mnt/Omer/Project/03.LinearRegionalCooling/AnalysisResult/Experiment/',\n",
    "                           '%s/%s/%s-%s' % (date, session_name, start, end))\n",
    "\n",
    "for i in range(3):\n",
    "    plt.imsave(os.path.join(save_parent, 'APD_color_%s.png' % i),\n",
    "               apd6.data[i]*2, vmin=150, vmax=270, cmap='jet')\n",
    "    plt.imsave(os.path.join(save_parent, 'APD_gray_%s.png' % i),\n",
    "               apd6.data[i]*2, vmin=150, vmax=270, cmap='gray')"
   ]
  },
  {
   "cell_type": "code",
   "execution_count": 69,
   "metadata": {
    "collapsed": false
   },
   "outputs": [
    {
     "data": {
      "text/plain": [
       "<matplotlib.image.AxesImage at 0x7f507f0b48d0>"
      ]
     },
     "execution_count": 69,
     "metadata": {},
     "output_type": "execute_result"
    },
    {
     "data": {
      "image/png": "[encoded data removed]",
      "text/plain": [
       "<matplotlib.figure.Figure at 0x7f507ee57d68>"
      ]
     },
     "metadata": {},
     "output_type": "display_data"
    }
   ],
   "source": [
    "plt.imshow(apd6.data[2]*2, vmin=150, vmax=250, cmap='gray')"
   ]
  },
  {
   "cell_type": "code",
   "execution_count": 139,
   "metadata": {
    "collapsed": false
   },
   "outputs": [],
   "source": [
    "import matplotlib.patches as patches\n",
    "import copy\n",
    "\n",
    "# data_path = os.path.join(parent_path, '20181121-1/C001H001S0005/')\n",
    "# start = 4000\n",
    "# end = -1\n",
    "# date = data_path.split('/')[-3]\n",
    "# session_name = data_path.split('/')[-2]\n",
    "# save_parent = os.path.join('/mnt/Omer/Project/03.LinearRegionalCooling/AnalysisResult/Experiment/',\n",
    "#                            '%s/%s/%s-%s' % (date, session_name, start, end))\n",
    "\n",
    "# raw = RawCam(path=data_path, cam_type='sa4',\n",
    "#              image_width=256, image_height=256, frame_start=start, frame_end=end)\n",
    "\n",
    "dat = copy.deepcopy(raw.data[800])\n",
    "dat[22:213, 112:140] = np.max(dat)\n",
    "\n",
    "# plt.imshow(dat, cmap='gray')\n",
    "plt.imsave('/mnt/Omer/Project/03.LinearRegionalCooling/AnalysisResult/Experiment/20181121-1/C001H001S0006/0--1/with_frame.png', dat, cmap='gray')\n",
    "plt.close()\n",
    "\n",
    "plt.imsave('/mnt/Omer/Project/03.LinearRegionalCooling/AnalysisResult/Experiment/20181121-1/C001H001S0006/0--1/without_frame.png', raw.data[800], cmap='gray')\n",
    "plt.close()"
   ]
  },
  {
   "cell_type": "code",
   "execution_count": 140,
   "metadata": {
    "collapsed": false
   },
   "outputs": [
    {
     "data": {
      "text/plain": [
       "(5, 256, 256)"
      ]
     },
     "execution_count": 140,
     "metadata": {},
     "output_type": "execute_result"
    }
   ],
   "source": [
    "apd2.data.shape"
   ]
  },
  {
   "cell_type": "code",
   "execution_count": 141,
   "metadata": {
    "collapsed": false
   },
   "outputs": [
    {
     "data": {
      "text/plain": [
       "93.562828"
      ]
     },
     "execution_count": 141,
     "metadata": {},
     "output_type": "execute_result"
    }
   ],
   "source": [
    "averages = []\n",
    "errs = []\n",
    "\n",
    "np.average(apd2.data[1, 22:213, 112:140])\n",
    "np."
   ]
  },
  {
   "cell_type": "code",
   "execution_count": null,
   "metadata": {
    "collapsed": true
   },
   "outputs": [],
   "source": []
  }
 ],
 "metadata": {
  "kernelspec": {
   "display_name": "Python [Root]",
   "language": "python",
   "name": "Python [Root]"
  },
  "language_info": {
   "codemirror_mode": {
    "name": "ipython",
    "version": 3
   },
   "file_extension": ".py",
   "mimetype": "text/x-python",
   "name": "python",
   "nbconvert_exporter": "python",
   "pygments_lexer": "ipython3",
   "version": "3.5.2"
  }
 },
 "nbformat": 4,
 "nbformat_minor": 2
}
