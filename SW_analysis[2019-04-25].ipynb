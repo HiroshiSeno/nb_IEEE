{
 "cells": [
  {
   "cell_type": "code",
   "execution_count": 70,
   "metadata": {},
   "outputs": [
    {
     "name": "stderr",
     "output_type": "stream",
     "text": [
      "/opt/conda/lib/python3.5/site-packages/matplotlib/font_manager.py:273: UserWarning: Matplotlib is building the font cache using fc-list. This may take a moment.\n",
      "  warnings.warn('Matplotlib is building the font cache using fc-list. This may take a moment.')\n",
      "/opt/conda/lib/python3.5/site-packages/matplotlib/font_manager.py:273: UserWarning: Matplotlib is building the font cache using fc-list. This may take a moment.\n",
      "  warnings.warn('Matplotlib is building the font cache using fc-list. This may take a moment.')\n"
     ]
    }
   ],
   "source": [
    "import numpy as np\n",
    "import matplotlib.pyplot as plt\n",
    "import os\n",
    "import subprocess\n",
    "import matplotlib\n",
    "matplotlib.font_manager._rebuild()\n",
    "plt.rcParams['font.family'] = 'Times New Roman' #全体のフォントを設定\n",
    "%matplotlib inline"
   ]
  },
  {
   "cell_type": "code",
   "execution_count": 71,
   "metadata": {
    "collapsed": true
   },
   "outputs": [],
   "source": [
    "import sys\n",
    "sys.path.append(\"/notebooks/nb_IEEE/opmap/\")"
   ]
  },
  {
   "cell_type": "code",
   "execution_count": 72,
   "metadata": {},
   "outputs": [],
   "source": [
    "import opmap\n",
    "from opmap.rawCam import RawCam\n",
    "from opmap.vmemMap import VmemMap\n",
    "from opmap.apdMap import APDMap\n",
    "from opmap.phaseMapHilbert import PhaseMapHilbert as PhaseMap\n",
    "from opmap.phaseVarianceMap import PhaseVarianceMap"
   ]
  },
  {
   "cell_type": "code",
   "execution_count": 73,
   "metadata": {
    "collapsed": true
   },
   "outputs": [],
   "source": [
    "def FFT(vmem_1d, N, dt, fc_low=None, fc_high=None):\n",
    "    fq = np.linspace(0, 1.0/dt, N)\n",
    "    F = np.fft.fft(vmem_1d)\n",
    "    if fc_low is not None:\n",
    "        F[(fq <= fc_low)] = 0\n",
    "    if fc_high is not None:\n",
    "        F[(fq >= fc_high)] = 0\n",
    "    \n",
    "    F_abs = np.abs(F)\n",
    "    F_abs_amp = F_abs/N\n",
    "#     F_abs_amp[0] = F_abs_amp[0]/2\n",
    "    F_abs_amp[0] = 0\n",
    "    \n",
    "    F_ifft = np.fft.ifft(F)\n",
    "    F_ifft_real = F_ifft.real * 2\n",
    "    \n",
    "    return F_ifft_real"
   ]
  },
  {
   "cell_type": "code",
   "execution_count": 74,
   "metadata": {
    "collapsed": true
   },
   "outputs": [],
   "source": [
    "def isochronal(pmap, threshold):\n",
    "    contour = np.zeros_like(pmap.data)\n",
    "\n",
    "    for i in range(contour.shape[1]):\n",
    "        for j in range(contour.shape[2]):        \n",
    "            if pmap.roi[i,j] == 1:\n",
    "                counter = 0\n",
    "                for time in range(contour.shape[0]):\n",
    "                    if time == 0:\n",
    "                        pass\n",
    "                    elif ((pmap.data[time-1, i, j] < threshold) * (pmap.data[time, i, j] > threshold)) == 1:\n",
    "                        counter = 0\n",
    "\n",
    "                    contour[time, i, j] = counter\n",
    "                    counter += 1\n",
    "                \n",
    "    return contour"
   ]
  },
  {
   "cell_type": "markdown",
   "metadata": {},
   "source": [
    "## 旋回興奮に対する冷却"
   ]
  },
  {
   "cell_type": "code",
   "execution_count": 75,
   "metadata": {
    "collapsed": true
   },
   "outputs": [],
   "source": [
    "import cv2"
   ]
  },
  {
   "cell_type": "markdown",
   "metadata": {},
   "source": [
    "### 20181121-1/C001H001S0008"
   ]
  },
  {
   "cell_type": "code",
   "execution_count": 138,
   "metadata": {},
   "outputs": [
    {
     "name": "stdout",
     "output_type": "stream",
     "text": [
      "/mnt/Jalife/ExperimentData/20181121-1/C001H001S0008/\n"
     ]
    }
   ],
   "source": [
    "parent_path = '/mnt/Jalife/ExperimentData/'\n",
    "\n",
    "data_path = os.path.join(parent_path, '20181121-1/C001H001S0008/')\n",
    "print(data_path)\n",
    "start = 29000\n",
    "end = 30000\n",
    "date = data_path.split('/')[-3]\n",
    "session_name = data_path.split('/')[-2]\n",
    "save_parent = os.path.join('/mnt/Omer/Project/03.LinearRegionalCooling/AnalysisResult/Experiment/IEEE/', '%s/%s/%s-%s' % (date, session_name, start, end))\n",
    "\n",
    "raw = RawCam(path=data_path, cam_type='sa4',\n",
    "          image_width=256, image_height=256, frame_start=start, frame_end=end)\n",
    "\n",
    "vmem = VmemMap(raw)\n",
    "\n",
    "roi_png = cv2.imread('/mnt/Omer/Project/03.LinearRegionalCooling/AnalysisResult/Experiment/20181121-1/C001H001S0007/roi.png', cv2.IMREAD_GRAYSCALE)\n",
    "roi_png = roi_png/255.0\n",
    "\n",
    "vmem.roi = roi_png\n",
    "vmem.data = vmem.data * vmem.roi\n",
    "\n",
    "for i in range(vmem.data.shape[1]):\n",
    "    for j in range(vmem.data.shape[2]):\n",
    "        vmem.data[:, i, j] = FFT(vmem.data[:, i, j], vmem.data.shape[0], 0.002, fc_low=2, fc_high=50)\n",
    "vmem.smooth(size=9)\n",
    "\n",
    "pmap = PhaseMap(vmem)\n",
    "\n",
    "# if not os.path.exists(os.path.join(save_parent, 'pmap')):\n",
    "#     os.makedirs(os.path.join(save_parent, 'pmap'))\n",
    "\n",
    "# pmap.saveImage(os.path.join(save_parent, 'pmap'), img_type='png', skip=1)\n",
    "# cmd = 'ffmpeg -r 30 -y -i \"{0}/pmap/%06d.png\" -c:v libx264 -pix_fmt yuv420p -qscale 0 \"{0}/pmap_movie.mp4\"'.format(save_parent)\n",
    "# subprocess.call(cmd, shell=True)"
   ]
  },
  {
   "cell_type": "code",
   "execution_count": 139,
   "metadata": {
    "collapsed": true
   },
   "outputs": [],
   "source": [
    "pvmap = PhaseVarianceMap(pmap, size=3)"
   ]
  },
  {
   "cell_type": "code",
   "execution_count": 140,
   "metadata": {},
   "outputs": [],
   "source": [
    "for i in range(1000):\n",
    "    dat = copy.deepcopy(pmap.data[i]) - 2\n",
    "    dat = dat +(dat < -np.pi)*2*np.pi\n",
    "    \n",
    "    plt.imsave('/mnt/Omer/Project/03.LinearRegionalCooling/AnalysisResult/Experiment/IEEE/20181121-1/C001H001S0008/29000-30000/jet/pmap/%s.png' % '{0:04d}'.format(i),\n",
    "               dat*cv2.resize(vmem.roi, (128, 128))*(-1), vmin=-np.pi, vmax=np.pi, cmap='jet')\n",
    "    plt.close()"
   ]
  },
  {
   "cell_type": "code",
   "execution_count": 141,
   "metadata": {
    "collapsed": true
   },
   "outputs": [],
   "source": [
    "for i in range(1000):\n",
    "    plt.imsave('/mnt/Omer/Project/03.LinearRegionalCooling/AnalysisResult/Experiment/IEEE/20181121-1/C001H001S0008/29000-30000/gray/pvmap/%s.png' % '{0:04d}'.format(i),\n",
    "               pvmap.data[i]*cv2.resize(vmem.roi, (128, 128)), vmax=1, vmin=0, cmap='gray')\n",
    "    plt.close()"
   ]
  },
  {
   "cell_type": "code",
   "execution_count": 142,
   "metadata": {
    "collapsed": true
   },
   "outputs": [],
   "source": [
    "for time in range(1000):\n",
    "    pmap = cv2.imread('/mnt/Omer/Project/03.LinearRegionalCooling/AnalysisResult/Experiment/IEEE/20181121-1/C001H001S0008/29000-30000/jet/pmap/%s.png' % '{0:04d}'.format(time), cv2.IMREAD_UNCHANGED)\n",
    "    pmap = cv2.cvtColor(pmap, cv2.COLOR_BGR2RGB)\n",
    "    pvmap = cv2.imread('/mnt/Omer/Project/03.LinearRegionalCooling/AnalysisResult/Experiment/IEEE/20181121-1/C001H001S0008/29000-30000/gray/pvmap/%s.png' % '{0:04d}'.format(time), cv2.IMREAD_UNCHANGED)\n",
    "    \n",
    "    for i in range(128):\n",
    "        for j in range(128):\n",
    "            if pvmap[i,j,0] > 255*0.5:\n",
    "                pvmap[i,j,:] = 255\n",
    "            else:\n",
    "                pvmap[i,j,3] = 0\n",
    "    \n",
    "    plt.imshow(pmap)\n",
    "    plt.imshow(pvmap)\n",
    "    plt.xticks([])\n",
    "    plt.yticks([])\n",
    "    plt.savefig('/mnt/Omer/Project/03.LinearRegionalCooling/AnalysisResult/Experiment/IEEE/20181121-1/C001H001S0008/29000-30000/jet/pmap_pvmap/%s.png' % '{0:04d}'.format(time), dpi=100)\n",
    "    plt.close()"
   ]
  },
  {
   "cell_type": "markdown",
   "metadata": {},
   "source": [
    "### 20181121-1/C001H001S0014"
   ]
  },
  {
   "cell_type": "code",
   "execution_count": 143,
   "metadata": {},
   "outputs": [
    {
     "name": "stdout",
     "output_type": "stream",
     "text": [
      "/mnt/Jalife/ExperimentData/20181121-1/C001H001S0014/\n"
     ]
    }
   ],
   "source": [
    "parent_path = '/mnt/Jalife/ExperimentData/'\n",
    "\n",
    "data_path = os.path.join(parent_path, '20181121-1/C001H001S0014/')\n",
    "print(data_path)\n",
    "start = 29000\n",
    "end = 30000\n",
    "date = data_path.split('/')[-3]\n",
    "session_name = data_path.split('/')[-2]\n",
    "save_parent = os.path.join('/mnt/Omer/Project/03.LinearRegionalCooling/AnalysisResult/Experiment/IEEE/', '%s/%s/%s-%s' % (date, session_name, start, end))\n",
    "\n",
    "raw = RawCam(path=data_path, cam_type='sa4',\n",
    "          image_width=256, image_height=256, frame_start=start, frame_end=end)\n",
    "\n",
    "vmem = VmemMap(raw)\n",
    "\n",
    "roi_png = cv2.imread('/mnt/Omer/Project/03.LinearRegionalCooling/AnalysisResult/Experiment/20181121-1/C001H001S0014/roi.png', cv2.IMREAD_GRAYSCALE)\n",
    "roi_png = roi_png/255.0\n",
    "\n",
    "vmem.roi = roi_png\n",
    "vmem.data = vmem.data * vmem.roi\n",
    "\n",
    "for i in range(vmem.data.shape[1]):\n",
    "    for j in range(vmem.data.shape[2]):\n",
    "        vmem.data[:, i, j] = FFT(vmem.data[:, i, j], vmem.data.shape[0], 0.002, fc_low=2, fc_high=50)\n",
    "vmem.smooth(size=9)\n",
    "\n",
    "pmap = PhaseMap(vmem)\n",
    "\n",
    "# if not os.path.exists(os.path.join(save_parent, 'pmap')):\n",
    "#     os.makedirs(os.path.join(save_parent, 'pmap'))\n",
    "\n",
    "# pmap.saveImage(os.path.join(save_parent, 'pmap'), img_type='png', skip=1)\n",
    "# cmd = 'ffmpeg -r 30 -y -i \"{0}/pmap/%06d.png\" -c:v libx264 -pix_fmt yuv420p -qscale 0 \"{0}/pmap_movie.mp4\"'.format(save_parent)\n",
    "# subprocess.call(cmd, shell=True)"
   ]
  },
  {
   "cell_type": "code",
   "execution_count": 144,
   "metadata": {
    "collapsed": true
   },
   "outputs": [],
   "source": [
    "pvmap = PhaseVarianceMap(pmap, size=3)"
   ]
  },
  {
   "cell_type": "code",
   "execution_count": 146,
   "metadata": {},
   "outputs": [],
   "source": [
    "for i in range(1000):\n",
    "    dat = copy.deepcopy(pmap.data[i]) - 2\n",
    "    dat = dat +(dat < -np.pi)*2*np.pi\n",
    "    \n",
    "    plt.imsave('/mnt/Omer/Project/03.LinearRegionalCooling/AnalysisResult/Experiment/IEEE/20181121-1/C001H001S0014/29000-30000/jet/pmap/%s.png' % '{0:04d}'.format(i),\n",
    "               dat*cv2.resize(vmem.roi, (128, 128))*(-1), vmin=-np.pi, vmax=np.pi, cmap='jet')\n",
    "    plt.close()"
   ]
  },
  {
   "cell_type": "code",
   "execution_count": 147,
   "metadata": {
    "collapsed": true
   },
   "outputs": [],
   "source": [
    "for i in range(1000):\n",
    "    plt.imsave('/mnt/Omer/Project/03.LinearRegionalCooling/AnalysisResult/Experiment/IEEE/20181121-1/C001H001S0014/29000-30000/gray/pvmap/%s.png' % '{0:04d}'.format(i),\n",
    "               pvmap.data[i]*cv2.resize(vmem.roi, (128, 128)), vmax=1, vmin=0, cmap='gray')\n",
    "    plt.close()"
   ]
  },
  {
   "cell_type": "code",
   "execution_count": 148,
   "metadata": {
    "collapsed": true
   },
   "outputs": [],
   "source": [
    "for time in range(1000):\n",
    "    pmap = cv2.imread('/mnt/Omer/Project/03.LinearRegionalCooling/AnalysisResult/Experiment/IEEE/20181121-1/C001H001S0014/29000-30000/jet/pmap/%s.png' % '{0:04d}'.format(time), cv2.IMREAD_UNCHANGED)\n",
    "    pmap = cv2.cvtColor(pmap, cv2.COLOR_BGR2RGB)\n",
    "    pvmap = cv2.imread('/mnt/Omer/Project/03.LinearRegionalCooling/AnalysisResult/Experiment/IEEE/20181121-1/C001H001S0014/29000-30000/gray/pvmap/%s.png' % '{0:04d}'.format(time), cv2.IMREAD_UNCHANGED)\n",
    "    \n",
    "    for i in range(128):\n",
    "        for j in range(128):\n",
    "            if pvmap[i,j,0] > 255*0.5:\n",
    "                pvmap[i,j,:] = 255\n",
    "            else:\n",
    "                pvmap[i,j,3] = 0\n",
    "    \n",
    "    plt.imshow(pmap)\n",
    "    plt.imshow(pvmap)\n",
    "    plt.xticks([])\n",
    "    plt.yticks([])\n",
    "    plt.savefig('/mnt/Omer/Project/03.LinearRegionalCooling/AnalysisResult/Experiment/IEEE/20181121-1/C001H001S0014/29000-30000/jet/pmap_pvmap/%s.png' % '{0:04d}'.format(time), dpi=100)\n",
    "    plt.close()"
   ]
  },
  {
   "cell_type": "markdown",
   "metadata": {},
   "source": [
    "### 20181220-1/C001H001S0012"
   ]
  },
  {
   "cell_type": "code",
   "execution_count": 177,
   "metadata": {},
   "outputs": [
    {
     "name": "stdout",
     "output_type": "stream",
     "text": [
      "/mnt/Jalife/ExperimentData/20181220-1/C001H001S0012/\n"
     ]
    }
   ],
   "source": [
    "parent_path = '/mnt/Jalife/ExperimentData/'\n",
    "\n",
    "data_path = os.path.join(parent_path, '20181220-1/C001H001S0012/')\n",
    "print(data_path)\n",
    "start = 9500\n",
    "end = 10500\n",
    "date = data_path.split('/')[-3]\n",
    "session_name = data_path.split('/')[-2]\n",
    "save_parent = os.path.join('/mnt/Omer/Project/03.LinearRegionalCooling/AnalysisResult/Experiment/IEEE/', '%s/%s/%s-%s' % (date, session_name, start, end))\n",
    "\n",
    "raw = RawCam(path=data_path, cam_type='sa4',\n",
    "          image_width=256, image_height=256, frame_start=start, frame_end=end)\n",
    "\n",
    "vmem = VmemMap(raw)\n",
    "\n",
    "roi_png = cv2.imread('/mnt/Omer/Project/03.LinearRegionalCooling/AnalysisResult/Experiment/20181220-1/C001H001S0012/roi.png', cv2.IMREAD_GRAYSCALE)\n",
    "roi_png = roi_png/255.0\n",
    "\n",
    "vmem.roi = roi_png\n",
    "vmem.data = vmem.data * vmem.roi\n",
    "\n",
    "for i in range(vmem.data.shape[1]):\n",
    "    for j in range(vmem.data.shape[2]):\n",
    "        vmem.data[:, i, j] = FFT(vmem.data[:, i, j], vmem.data.shape[0], 0.002, fc_low=2, fc_high=50)\n",
    "vmem.smooth(size=9)\n",
    "\n",
    "pmap = PhaseMap(vmem)\n",
    "\n",
    "# if not os.path.exists(os.path.join(save_parent, 'pmap')):\n",
    "#     os.makedirs(os.path.join(save_parent, 'pmap'))\n",
    "\n",
    "# pmap.saveImage(os.path.join(save_parent, 'pmap'), img_type='png', skip=1)\n",
    "# cmd = 'ffmpeg -r 30 -y -i \"{0}/pmap/%06d.png\" -c:v libx264 -pix_fmt yuv420p -qscale 0 \"{0}/pmap_movie.mp4\"'.format(save_parent)\n",
    "# subprocess.call(cmd, shell=True)"
   ]
  },
  {
   "cell_type": "code",
   "execution_count": 178,
   "metadata": {
    "collapsed": true
   },
   "outputs": [],
   "source": [
    "pvmap = PhaseVarianceMap(pmap, size=3)"
   ]
  },
  {
   "cell_type": "code",
   "execution_count": 151,
   "metadata": {
    "collapsed": true
   },
   "outputs": [],
   "source": [
    "for i in range(1000):\n",
    "    dat = copy.deepcopy(pmap.data[i]) - 2\n",
    "    dat = dat +(dat < -np.pi)*2*np.pi\n",
    "    \n",
    "    plt.imsave('/mnt/Omer/Project/03.LinearRegionalCooling/AnalysisResult/Experiment/IEEE/20181220-1/C001H001S0012/9500-10500/jet/pmap/%s.png' % '{0:04d}'.format(i),\n",
    "               dat*cv2.resize(vmem.roi, (128, 128))*(-1), vmin=-np.pi, vmax=np.pi, cmap='jet')\n",
    "    plt.close()"
   ]
  },
  {
   "cell_type": "code",
   "execution_count": 152,
   "metadata": {
    "collapsed": true
   },
   "outputs": [],
   "source": [
    "for i in range(1000):\n",
    "    plt.imsave('/mnt/Omer/Project/03.LinearRegionalCooling/AnalysisResult/Experiment/IEEE/20181220-1/C001H001S0012/9500-10500/gray/pvmap/%s.png' % '{0:04d}'.format(i),\n",
    "               pvmap.data[i]*cv2.resize(vmem.roi, (128, 128)), vmax=1, vmin=0, cmap='gray')\n",
    "    plt.close()"
   ]
  },
  {
   "cell_type": "code",
   "execution_count": 153,
   "metadata": {},
   "outputs": [],
   "source": [
    "for time in range(1000):\n",
    "    pmap = cv2.imread('/mnt/Omer/Project/03.LinearRegionalCooling/AnalysisResult/Experiment/IEEE/20181220-1/C001H001S0012/9500-10500/jet/pmap/%s.png' % '{0:04d}'.format(time), cv2.IMREAD_UNCHANGED)\n",
    "    pmap = cv2.cvtColor(pmap, cv2.COLOR_BGR2RGB)\n",
    "    pvmap = cv2.imread('/mnt/Omer/Project/03.LinearRegionalCooling/AnalysisResult/Experiment/IEEE/20181220-1/C001H001S0012/9500-10500/gray/pvmap/%s.png' % '{0:04d}'.format(time), cv2.IMREAD_UNCHANGED)\n",
    "    \n",
    "    for i in range(128):\n",
    "        for j in range(128):\n",
    "            if pvmap[i,j,0] > 255*0.5:\n",
    "                pvmap[i,j,:] = 255\n",
    "            else:\n",
    "                pvmap[i,j,3] = 0\n",
    "    \n",
    "    plt.imshow(pmap)\n",
    "    plt.imshow(pvmap)\n",
    "    plt.xticks([])\n",
    "    plt.yticks([])\n",
    "    plt.savefig('/mnt/Omer/Project/03.LinearRegionalCooling/AnalysisResult/Experiment/IEEE/20181220-1/C001H001S0012/9500-10500/jet/pmap_pvmap/%s.png' % '{0:04d}'.format(time), dpi=100)\n",
    "    plt.close()"
   ]
  },
  {
   "cell_type": "code",
   "execution_count": 194,
   "metadata": {},
   "outputs": [
    {
     "data": {
      "text/plain": [
       "<matplotlib.image.AxesImage at 0x7f6e806688d0>"
      ]
     },
     "execution_count": 194,
     "metadata": {},
     "output_type": "execute_result"
    },
    {
     "data": {
      "image/png": "[encoded data removed]",
      "text/plain": [
       "<matplotlib.figure.Figure at 0x7f6e806a3358>"
      ]
     },
     "metadata": {},
     "output_type": "display_data"
    }
   ],
   "source": [
    "sample = cv2.imread('/mnt/Omer/Project/03.LinearRegionalCooling/AnalysisResult/Experiment/IEEE/20181220-1/C001H001S0012/9500-10500/jet/pmap/0920.png')\n",
    "sample[18, 40, :] = 255\n",
    "sample[12, 48, :] = 255\n",
    "plt.imshow(sample)"
   ]
  },
  {
   "cell_type": "code",
   "execution_count": 195,
   "metadata": {},
   "outputs": [
    {
     "data": {
      "text/plain": [
       "[<matplotlib.lines.Line2D at 0x7f6e8068b1d0>]"
      ]
     },
     "execution_count": 195,
     "metadata": {},
     "output_type": "execute_result"
    },
    {
     "data": {
      "image/png": "[encoded data removed]",
      "text/plain": [
       "<matplotlib.figure.Figure at 0x7f6e807f9e10>"
      ]
     },
     "metadata": {},
     "output_type": "display_data"
    }
   ],
   "source": [
    "plt.plot(vmem.data[700:, 36, 80], color='green')\n",
    "plt.plot(vmem.data[700:, 24, 96], color='blue')"
   ]
  },
  {
   "cell_type": "markdown",
   "metadata": {},
   "source": [
    "### 20181220-1/C001H001S0020"
   ]
  },
  {
   "cell_type": "code",
   "execution_count": 196,
   "metadata": {},
   "outputs": [
    {
     "name": "stdout",
     "output_type": "stream",
     "text": [
      "/mnt/Jalife/ExperimentData/20181220-1/C001H001S0020/\n"
     ]
    }
   ],
   "source": [
    "parent_path = '/mnt/Jalife/ExperimentData/'\n",
    "\n",
    "data_path = os.path.join(parent_path, '20181220-1/C001H001S0020/')\n",
    "print(data_path)\n",
    "start = 7300\n",
    "end = 8300\n",
    "date = data_path.split('/')[-3]\n",
    "session_name = data_path.split('/')[-2]\n",
    "save_parent = os.path.join('/mnt/Omer/Project/03.LinearRegionalCooling/AnalysisResult/Experiment/IEEE/', '%s/%s/%s-%s' % (date, session_name, start, end))\n",
    "\n",
    "raw = RawCam(path=data_path, cam_type='sa4',\n",
    "          image_width=256, image_height=256, frame_start=start, frame_end=end)\n",
    "\n",
    "vmem = VmemMap(raw)\n",
    "\n",
    "roi_png = cv2.imread('/mnt/Omer/Project/03.LinearRegionalCooling/AnalysisResult/Experiment/20181220-1/C001H001S0020/roi.png', cv2.IMREAD_GRAYSCALE)\n",
    "roi_png = roi_png/255.0\n",
    "\n",
    "vmem.roi = roi_png\n",
    "vmem.data = vmem.data * vmem.roi\n",
    "\n",
    "for i in range(vmem.data.shape[1]):\n",
    "    for j in range(vmem.data.shape[2]):\n",
    "        vmem.data[:, i, j] = FFT(vmem.data[:, i, j], vmem.data.shape[0], 0.002, fc_low=2, fc_high=50)\n",
    "vmem.smooth(size=9)\n",
    "\n",
    "pmap = PhaseMap(vmem)"
   ]
  },
  {
   "cell_type": "code",
   "execution_count": 168,
   "metadata": {},
   "outputs": [],
   "source": [
    "pvmap = PhaseVarianceMap(pmap, size=3)"
   ]
  },
  {
   "cell_type": "code",
   "execution_count": 156,
   "metadata": {},
   "outputs": [],
   "source": [
    "for i in range(1000):\n",
    "    dat = copy.deepcopy(pmap.data[i]) - 2\n",
    "    dat = dat +(dat < -np.pi)*2*np.pi\n",
    "    \n",
    "    plt.imsave('/mnt/Omer/Project/03.LinearRegionalCooling/AnalysisResult/Experiment/IEEE/20181220-1/C001H001S0020/7300-8300/jet/pmap/%s.png' % '{0:04d}'.format(i),\n",
    "               dat*cv2.resize(vmem.roi, (128, 128))*(-1), vmin=-np.pi, vmax=np.pi, cmap='jet')\n",
    "    plt.close()"
   ]
  },
  {
   "cell_type": "code",
   "execution_count": 157,
   "metadata": {
    "collapsed": true
   },
   "outputs": [],
   "source": [
    "for i in range(1000):\n",
    "    plt.imsave('/mnt/Omer/Project/03.LinearRegionalCooling/AnalysisResult/Experiment/IEEE/20181220-1/C001H001S0020/7300-8300/gray/pvmap/%s.png' % '{0:04d}'.format(i),\n",
    "               pvmap.data[i]*cv2.resize(vmem.roi, (128, 128)), vmax=1, vmin=0, cmap='gray')\n",
    "    plt.close()"
   ]
  },
  {
   "cell_type": "code",
   "execution_count": 158,
   "metadata": {},
   "outputs": [],
   "source": [
    "for time in range(1000):\n",
    "    pmap = cv2.imread('/mnt/Omer/Project/03.LinearRegionalCooling/AnalysisResult/Experiment/IEEE/20181220-1/C001H001S0020/7300-8300/jet/pmap/%s.png' % '{0:04d}'.format(time), cv2.IMREAD_UNCHANGED)\n",
    "    pmap = cv2.cvtColor(pmap, cv2.COLOR_BGR2RGB)\n",
    "    pvmap = cv2.imread('/mnt/Omer/Project/03.LinearRegionalCooling/AnalysisResult/Experiment/IEEE/20181220-1/C001H001S0020/7300-8300/gray/pvmap/%s.png' % '{0:04d}'.format(time), cv2.IMREAD_UNCHANGED)\n",
    "    \n",
    "    for i in range(128):\n",
    "        for j in range(128):\n",
    "            if pvmap[i,j,0] > 255*0.5:\n",
    "                pvmap[i,j,:] = 255\n",
    "            else:\n",
    "                pvmap[i,j,3] = 0\n",
    "    \n",
    "    plt.imshow(pmap)\n",
    "    plt.imshow(pvmap)\n",
    "    plt.xticks([])\n",
    "    plt.yticks([])\n",
    "    plt.savefig('/mnt/Omer/Project/03.LinearRegionalCooling/AnalysisResult/Experiment/IEEE/20181220-1/C001H001S0020/7300-8300/jet/pmap_pvmap/%s.png' % '{0:04d}'.format(time), dpi=100)\n",
    "    plt.close()"
   ]
  },
  {
   "cell_type": "code",
   "execution_count": 216,
   "metadata": {},
   "outputs": [
    {
     "data": {
      "text/plain": [
       "<matplotlib.image.AxesImage at 0x7f6e7fe82da0>"
      ]
     },
     "execution_count": 216,
     "metadata": {},
     "output_type": "execute_result"
    },
    {
     "data": {
      "image/png": "[encoded data removed]",
      "text/plain": [
       "<matplotlib.figure.Figure at 0x7f6e802d2208>"
      ]
     },
     "metadata": {},
     "output_type": "display_data"
    }
   ],
   "source": [
    "sample = cv2.imread('/mnt/Omer/Project/03.LinearRegionalCooling/AnalysisResult/Experiment/IEEE/20181220-1/C001H001S0020/7300-8300/jet/pmap/0738.png')\n",
    "sample[15, 30, :] = 255\n",
    "sample[25, 50, :] = 255\n",
    "plt.imshow(sample)"
   ]
  },
  {
   "cell_type": "code",
   "execution_count": 241,
   "metadata": {},
   "outputs": [
    {
     "name": "stdout",
     "output_type": "stream",
     "text": [
      "/mnt/Jalife/ExperimentData/20181220-1/C001H001S0020/\n"
     ]
    }
   ],
   "source": [
    "parent_path = '/mnt/Jalife/ExperimentData/'\n",
    "\n",
    "data_path = os.path.join(parent_path, '20181220-1/C001H001S0020/')\n",
    "print(data_path)\n",
    "start = 7700\n",
    "end = 8100\n",
    "date = data_path.split('/')[-3]\n",
    "session_name = data_path.split('/')[-2]\n",
    "save_parent = os.path.join('/mnt/Omer/Project/03.LinearRegionalCooling/AnalysisResult/Experiment/IEEE/', '%s/%s/%s-%s' % (date, session_name, start, end))\n",
    "\n",
    "raw = RawCam(path=data_path, cam_type='sa4',\n",
    "          image_width=256, image_height=256, frame_start=start, frame_end=end)\n",
    "\n",
    "vmem = VmemMap(raw)\n",
    "\n",
    "roi_png = cv2.imread('/mnt/Omer/Project/03.LinearRegionalCooling/AnalysisResult/Experiment/20181220-1/C001H001S0020/roi.png', cv2.IMREAD_GRAYSCALE)\n",
    "roi_png = roi_png/255.0\n",
    "\n",
    "vmem.roi = roi_png\n",
    "vmem.data = vmem.data * vmem.roi\n",
    "\n",
    "for i in range(vmem.data.shape[1]):\n",
    "    for j in range(vmem.data.shape[2]):\n",
    "        vmem.data[:, i, j] = FFT(vmem.data[:, i, j], vmem.data.shape[0], 0.002, fc_low=2, fc_high=50)\n",
    "vmem.smooth(size=9)"
   ]
  },
  {
   "cell_type": "code",
   "execution_count": 246,
   "metadata": {},
   "outputs": [],
   "source": [
    "plt.plot(vmem.data[280:370, 30, 60], color='green', label='x_60_y_30')\n",
    "plt.plot(vmem.data[280:370, 50, 100], color='blue', label='x_100_y_50')\n",
    "plt.xticks([0, 10, 20, 30, 40, 50, 60, 70, 80, 90], [7980, 7990, 8000, 8010, 8020, 8030, 8040, 8050, 8060, 8070])\n",
    "plt.savefig('/mnt/Omer/Project/03.LinearRegionalCooling/AnalysisResult/Experiment/IEEE/20181220-1/C001H001S0020/7300-8300/block_(60,30)vs(100,50).png')\n",
    "plt.close()\n",
    "# plt.plot(vmem.data[:, 30, 60], color='green')\n",
    "# plt.plot(vmem.data[:, 50, 100], color='blue')"
   ]
  },
  {
   "cell_type": "markdown",
   "metadata": {},
   "source": [
    "## DC2用軌跡"
   ]
  },
  {
   "cell_type": "code",
   "execution_count": 102,
   "metadata": {},
   "outputs": [],
   "source": [
    "trajectory = np.zeros((128, 128))\n",
    "\n",
    "for i in range(40):\n",
    "    pvmap = cv2.imread('/mnt/Omer/Project/03.LinearRegionalCooling/AnalysisResult/Experiment/IEEE/20181220-1/C001H001S0020/7300-8300/gray/pvmap/%s.png' % '{0:04d}'.format(700+i))\n",
    "    trajectory += (pvmap[:, :, 0] > 0.5*255)*1"
   ]
  },
  {
   "cell_type": "code",
   "execution_count": 104,
   "metadata": {
    "collapsed": true
   },
   "outputs": [],
   "source": [
    "plt.imsave('/mnt/Omer/Project/03.LinearRegionalCooling/AnalysisResult/Experiment/IEEE/20181220-1/C001H001S0020/7300-8300/trajectory_for_DC2.png', (trajectory > 0)*1, cmap='gray')"
   ]
  },
  {
   "cell_type": "code",
   "execution_count": 106,
   "metadata": {},
   "outputs": [],
   "source": [
    "plt.imsave('/mnt/Omer/Project/03.LinearRegionalCooling/AnalysisResult/Experiment/IEEE/20181220-1/C001H001S0020/7300-8300/raw_for_DC2.png', raw.data[0], cmap='gray')"
   ]
  },
  {
   "cell_type": "code",
   "execution_count": 120,
   "metadata": {
    "collapsed": true
   },
   "outputs": [],
   "source": [
    "raw = cv2.imread('/mnt/Omer/Project/03.LinearRegionalCooling/AnalysisResult/Experiment/IEEE/20181220-1/C001H001S0020/7300-8300/raw_for_DC2.png', cv2.IMREAD_UNCHANGED)\n",
    "raw = cv2.resize(raw, (128, 128))\n",
    "trajectory = cv2.imread('/mnt/Omer/Project/03.LinearRegionalCooling/AnalysisResult/Experiment/IEEE/20181220-1/C001H001S0020/7300-8300/trajectory_for_DC2.png', cv2.IMREAD_UNCHANGED)"
   ]
  },
  {
   "cell_type": "code",
   "execution_count": 121,
   "metadata": {},
   "outputs": [],
   "source": [
    "for i in range(128):\n",
    "    for j in range(128):\n",
    "        if trajectory[i,j,0] > 128:\n",
    "            trajectory[i,j,3] = 255\n",
    "        else:\n",
    "            trajectory[i,j,3] = 0"
   ]
  },
  {
   "cell_type": "code",
   "execution_count": 124,
   "metadata": {},
   "outputs": [],
   "source": [
    "plt.imshow(raw)\n",
    "plt.imshow(trajectory)\n",
    "plt.xticks([])\n",
    "plt.yticks([])\n",
    "plt.savefig('/mnt/Omer/Project/03.LinearRegionalCooling/AnalysisResult/Experiment/IEEE/20181220-1/C001H001S0020/7300-8300/raw_trajectory.png', dpi=100)\n",
    "plt.close()"
   ]
  },
  {
   "cell_type": "code",
   "execution_count": null,
   "metadata": {
    "collapsed": true
   },
   "outputs": [],
   "source": []
  }
 ],
 "metadata": {
  "kernelspec": {
   "display_name": "Python 3",
   "language": "python",
   "name": "python3"
  },
  "language_info": {
   "codemirror_mode": {
    "name": "ipython",
    "version": 3
   },
   "file_extension": ".py",
   "mimetype": "text/x-python",
   "name": "python",
   "nbconvert_exporter": "python",
   "pygments_lexer": "ipython3",
   "version": "3.5.2"
  }
 },
 "nbformat": 4,
 "nbformat_minor": 2
}
