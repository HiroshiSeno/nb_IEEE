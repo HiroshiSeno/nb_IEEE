{
 "cells": [
  {
   "cell_type": "code",
   "execution_count": 1,
   "metadata": {
    "collapsed": true
   },
   "outputs": [],
   "source": [
    "import numpy as np\n",
    "import pandas as pd\n",
    "from scipy import fftpack\n",
    "import matplotlib.pyplot as plt\n",
    "from scipy.ndimage.filters import gaussian_filter1d\n",
    "import cv2\n",
    "%matplotlib inline"
   ]
  },
  {
   "cell_type": "markdown",
   "metadata": {},
   "source": [
    "## 熱電対"
   ]
  },
  {
   "cell_type": "code",
   "execution_count": 6,
   "metadata": {
    "collapsed": false
   },
   "outputs": [],
   "source": [
    "data1 = pd.read_csv('/mnt/Omer/Project/03.LinearRegionalCooling/AnalysisResult/Experiment/20190125/thermocouple/S001/dat00001.csv')\n",
    "data2 = pd.read_csv('/mnt/Omer/Project/03.LinearRegionalCooling/AnalysisResult/Experiment/20190125/thermocouple/S002/dat00001.csv')\n",
    "data3 = pd.read_csv('/mnt/Omer/Project/03.LinearRegionalCooling/AnalysisResult/Experiment/20190125/thermocouple/S003/dat00001.csv')"
   ]
  },
  {
   "cell_type": "code",
   "execution_count": 7,
   "metadata": {
    "collapsed": true
   },
   "outputs": [],
   "source": [
    "x = data1['Sweep #']\n",
    "y1 = gaussian_filter1d(data1['Chan 101 (C)'], sigma=7)\n",
    "y2 = gaussian_filter1d(data2['Chan 101 (C)'], sigma=7)\n",
    "y3 = gaussian_filter1d(data3['Chan 101 (C)'], sigma=7)"
   ]
  },
  {
   "cell_type": "code",
   "execution_count": 11,
   "metadata": {
    "collapsed": false
   },
   "outputs": [],
   "source": [
    "plt.plot(x*16/1000, y3, label='  15 °C', linestyle=':', color='#AAAAAA')\n",
    "plt.plot(x*16/1000, y2, label='    0 °C', linestyle='--', color='#555555')\n",
    "plt.plot(x*16/1000, y1, label='- 15 °C', linestyle='-', color='#000000')\n",
    "\n",
    "\n",
    "plt.xticks(size=14)\n",
    "plt.yticks(size=14)\n",
    "plt.legend(fontsize=14)\n",
    "\n",
    "plt.savefig('/mnt/Omer/Project/03.LinearRegionalCooling/AnalysisResult/Experiment/IEEE/20190125/thermocouple_gray.png', dpi=300, transparent=True)\n",
    "plt.close()"
   ]
  },
  {
   "cell_type": "code",
   "execution_count": 12,
   "metadata": {
    "collapsed": false
   },
   "outputs": [],
   "source": [
    "plt.plot(x*16/1000, y3, label='  15 °C', linestyle=':', color='red')\n",
    "plt.plot(x*16/1000, y2, label='    0 °C', linestyle='--', color='green')\n",
    "plt.plot(x*16/1000, y1, label='- 15 °C', linestyle='-', color='blue')\n",
    "\n",
    "\n",
    "plt.xticks(size=14)\n",
    "plt.yticks(size=14)\n",
    "plt.legend(fontsize=14)\n",
    "\n",
    "plt.savefig('/mnt/Omer/Project/03.LinearRegionalCooling/AnalysisResult/Experiment/IEEE/20190125/thermocouple_color.png', dpi=300, transparent=True)\n",
    "plt.close()"
   ]
  },
  {
   "cell_type": "markdown",
   "metadata": {},
   "source": [
    "## 感温液晶(論文用)\n"
   ]
  },
  {
   "cell_type": "code",
   "execution_count": 214,
   "metadata": {
    "collapsed": true
   },
   "outputs": [],
   "source": [
    "x = []\n",
    "\n",
    "for i in range(16):\n",
    "    data = pd.read_csv('/mnt/Omer/Project/03.LinearRegionalCooling/AnalysisResult/Experiment/20190125/thermocouple/S%s/dat00001.csv' % \"{0:03d}\".format(i+4))\n",
    "    x.append(np.average(data['Chan 101 (C)']))"
   ]
  },
  {
   "cell_type": "code",
   "execution_count": 216,
   "metadata": {
    "collapsed": false
   },
   "outputs": [
    {
     "data": {
      "text/plain": [
       "[24.580373333333331,\n",
       " 25.067766666666667,\n",
       " 25.979243333333333,\n",
       " 26.738813333333333,\n",
       " 27.652256666666666,\n",
       " 28.735250000000004,\n",
       " 29.462246666666662,\n",
       " 30.207153333333334,\n",
       " 31.121573333333334,\n",
       " 32.299473333333339,\n",
       " 33.139513333333333,\n",
       " 34.141400000000004,\n",
       " 35.163889999999995,\n",
       " 36.018713333333338,\n",
       " 36.675023333333336,\n",
       " 37.897313333333337]"
      ]
     },
     "execution_count": 216,
     "metadata": {},
     "output_type": "execute_result"
    }
   ],
   "source": [
    "x"
   ]
  },
  {
   "cell_type": "code",
   "execution_count": 217,
   "metadata": {
    "collapsed": true
   },
   "outputs": [],
   "source": [
    "data = np.zeros((3, 16)).astype(np.uint8)\n",
    "\n",
    "for i in range(16):\n",
    "    img = np.zeros((150, 150, 3, 150)).astype(np.uint8)\n",
    "    for j in range(150):\n",
    "        temp_img = cv2.imread('/mnt/Omer/Project/03.LinearRegionalCooling/AnalysisResult/Experiment/20190125/figures/S%s/%s.png' % (\"{0:03d}\".format(i+4), \"{0:04d}\".format(j)))\n",
    "        temp_img = cv2.cvtColor(temp_img, cv2.COLOR_BGR2RGB)\n",
    "        temp_img = cv2.resize(temp_img, (150, 150))\n",
    "        img[:, :, :, j] = cv2.medianBlur(temp_img, 15)\n",
    "\n",
    "    average_img = np.average(img, axis=3)\n",
    "    average_img = np.average(average_img, axis=0)\n",
    "    average_img = np.average(average_img, axis=0)\n",
    "\n",
    "    data[:, i] = average_img"
   ]
  },
  {
   "cell_type": "code",
   "execution_count": 220,
   "metadata": {
    "collapsed": false
   },
   "outputs": [],
   "source": [
    "tt = np.linspace(x[0], x[-1], 300)\n",
    "calib_data = np.zeros((3, 300)).astype(np.float16)\n",
    "\n",
    "fit_paramsR = np.polyfit(x, data[0,:], 3)\n",
    "red = np.poly1d(fit_paramsR)(tt)\n",
    "fit_paramsG = np.polyfit(x, data[1,:], 3)\n",
    "green = np.poly1d(fit_paramsG)(tt)\n",
    "fit_paramsB = np.polyfit(x, data[2,:], 3)\n",
    "blue = np.poly1d(fit_paramsB)(tt)\n",
    "\n",
    "calib_data[0, :] = red/(red+green+blue)\n",
    "calib_data[1, :] = green/(red+green+blue)\n",
    "calib_data[2, :] = blue/(red+green+blue)"
   ]
  },
  {
   "cell_type": "code",
   "execution_count": 223,
   "metadata": {
    "collapsed": false
   },
   "outputs": [],
   "source": [
    "plt.scatter(x, data[0, :]/(data[0, :]+data[1, :]+data[2, :]), color='red', s=8)\n",
    "plt.scatter(x, data[1, :]/(data[0, :]+data[1, :]+data[2, :]), color='green', s=8)\n",
    "plt.scatter(x, data[2, :]/(data[0, :]+data[1, :]+data[2, :]), color='blue', s=8)\n",
    "\n",
    "plt.plot(tt, calib_data[0, :], color='red', label='R')\n",
    "plt.plot(tt, calib_data[1, :], color='green', label='G')\n",
    "plt.plot(tt, calib_data[2, :], color='blue', label='B')\n",
    "\n",
    "plt.xticks(size=14)\n",
    "plt.yticks(size=14)\n",
    "plt.legend(fontsize=14, scatterpoints=1, bbox_to_anchor=(1.25, 1.02))\n",
    "plt.xlim([24, 38.5])\n",
    "plt.ylim([0.22, 0.42])\n",
    "plt.gcf().subplots_adjust(right=0.80)\n",
    "\n",
    "plt.savefig('/mnt/Omer/Project/03.LinearRegionalCooling/AnalysisResult/Experiment/IEEE/20190125/color_temperature_regression.png', dpi=300)\n",
    "plt.close()"
   ]
  },
  {
   "cell_type": "code",
   "execution_count": 225,
   "metadata": {
    "collapsed": false
   },
   "outputs": [],
   "source": [
    "plt.scatter(x, data[0, :]/(data[0, :]+data[1, :]+data[2, :]), color='black', s=8, label='R', marker='o')\n",
    "plt.scatter(x, data[1, :]/(data[0, :]+data[1, :]+data[2, :]), color='black', s=8, label='G', marker='v')\n",
    "plt.scatter(x, data[2, :]/(data[0, :]+data[1, :]+data[2, :]), color='black', s=8, label='B', marker='^')\n",
    "\n",
    "plt.plot(tt, calib_data[0, :], color='black', label='R', linestyle='-')\n",
    "plt.plot(tt, calib_data[1, :], color='black', label='G', linestyle='--')\n",
    "plt.plot(tt, calib_data[2, :], color='black', label='B', linestyle=':')\n",
    "\n",
    "plt.xticks(size=14)\n",
    "plt.yticks(size=14)\n",
    "plt.legend(fontsize=14, scatterpoints=1, bbox_to_anchor=(1.25, 1.02))\n",
    "plt.xlim([24, 38.5])\n",
    "plt.ylim([0.22, 0.42])\n",
    "plt.gcf().subplots_adjust(right=0.80)\n",
    "\n",
    "plt.savefig('/mnt/Omer/Project/03.LinearRegionalCooling/AnalysisResult/Experiment/IEEE/20190125/color_temperature_regression_gray.png', dpi=300)\n",
    "plt.close()"
   ]
  },
  {
   "cell_type": "code",
   "execution_count": 226,
   "metadata": {
    "collapsed": true
   },
   "outputs": [],
   "source": [
    "from mpl_toolkits.mplot3d import Axes3D\n",
    "\n",
    "fig = plt.figure()\n",
    "ax = fig.add_subplot(111, projection='3d')\n",
    "\n",
    "ax.scatter(calib_data[0,:], calib_data[1,:], calib_data[2,:], s=3, c='black')\n",
    "plt.xlabel('R', size=14)\n",
    "plt.ylabel('G', size=14)\n",
    "ax.set_zlabel('B', size=14)\n",
    "plt.tight_layout()\n",
    "\n",
    "plt.savefig('/mnt/Omer/Project/03.LinearRegionalCooling/AnalysisResult/Experiment/IEEE/20190125/RGB_3Dplot_gray.png', dpi=300)\n",
    "plt.close()"
   ]
  },
  {
   "cell_type": "code",
   "execution_count": 299,
   "metadata": {
    "collapsed": false
   },
   "outputs": [],
   "source": [
    "start = cv2.imread('/mnt/Omer/Project/03.LinearRegionalCooling/AnalysisResult/Experiment/20190125/figures/S001/0000.png')\n",
    "start = cv2.cvtColor(start, cv2.COLOR_BGR2RGB)\n",
    "start = cv2.medianBlur(start, 9)\n",
    "start = cv2.GaussianBlur(start, (9,9), 0)\n",
    "\n",
    "end = cv2.imread('/mnt/Omer/Project/03.LinearRegionalCooling/AnalysisResult/Experiment/20190125/figures/S001/1200.png')\n",
    "end = cv2.cvtColor(end, cv2.COLOR_BGR2RGB)\n",
    "end = cv2.medianBlur(end, 15)\n",
    "end = cv2.GaussianBlur(end, (15,15), 0)"
   ]
  },
  {
   "cell_type": "code",
   "execution_count": 289,
   "metadata": {
    "collapsed": false
   },
   "outputs": [
    {
     "data": {
      "text/plain": [
       "36.605703768115944"
      ]
     },
     "execution_count": 289,
     "metadata": {},
     "output_type": "execute_result"
    }
   ],
   "source": [
    "tt[-30]"
   ]
  },
  {
   "cell_type": "code",
   "execution_count": 290,
   "metadata": {
    "collapsed": false
   },
   "outputs": [],
   "source": [
    "tt_temp = tt[100:-30]\n",
    "calib_data_temp = calib_data[:, 100:-30]"
   ]
  },
  {
   "cell_type": "code",
   "execution_count": 300,
   "metadata": {
    "collapsed": false
   },
   "outputs": [
    {
     "data": {
      "text/plain": [
       "<matplotlib.image.AxesImage at 0x7ff056fe36a0>"
      ]
     },
     "execution_count": 300,
     "metadata": {},
     "output_type": "execute_result"
    },
    {
     "data": {
      "image/png": "[encoded data removed]",
      "text/plain": [
       "<matplotlib.figure.Figure at 0x7ff0570b8940>"
      ]
     },
     "metadata": {},
     "output_type": "display_data"
    }
   ],
   "source": [
    "img = np.zeros_like(temp_img).astype(np.float16)\n",
    "temp_img = end\n",
    "\n",
    "for i in range(150):\n",
    "    for j in range(150):\n",
    "        img[i,j,0] = temp_img[i,j,0]/(temp_img[i,j,0]+temp_img[i,j,1]+temp_img[i,j,2])\n",
    "        img[i,j,1] = temp_img[i,j,1]/(temp_img[i,j,0]+temp_img[i,j,1]+temp_img[i,j,2])\n",
    "        img[i,j,2] = temp_img[i,j,2]/(temp_img[i,j,0]+temp_img[i,j,1]+temp_img[i,j,2])\n",
    "\n",
    "plt.imshow(img)"
   ]
  },
  {
   "cell_type": "code",
   "execution_count": 301,
   "metadata": {
    "collapsed": false
   },
   "outputs": [
    {
     "data": {
      "text/plain": [
       "<matplotlib.image.AxesImage at 0x7ff056f507f0>"
      ]
     },
     "execution_count": 301,
     "metadata": {},
     "output_type": "execute_result"
    },
    {
     "data": {
      "image/png": "[encoded data removed]",
      "text/plain": [
       "<matplotlib.figure.Figure at 0x7ff06577f320>"
      ]
     },
     "metadata": {},
     "output_type": "display_data"
    }
   ],
   "source": [
    "temp = np.zeros((150, 150)).astype(np.float32)\n",
    "\n",
    "for i in range(150):\n",
    "    for j in range(150):\n",
    "        temp[i,j] = tt_temp[np.apply_along_axis(np.linalg.norm, 1, calib_data_temp[:, :].T-img[i, j, :]).argmin()]\n",
    "        \n",
    "plt.imshow(medfilt2d(temp, 15), vmin=tt_temp[0], vmax=tt_temp[-1])"
   ]
  },
  {
   "cell_type": "code",
   "execution_count": 298,
   "metadata": {
    "collapsed": false
   },
   "outputs": [
    {
     "data": {
      "text/plain": [
       "<matplotlib.image.AxesImage at 0x7ff057078470>"
      ]
     },
     "execution_count": 298,
     "metadata": {},
     "output_type": "execute_result"
    },
    {
     "data": {
      "image/png": "[encoded data removed]",
      "text/plain": [
       "<matplotlib.figure.Figure at 0x7ff057238a58>"
      ]
     },
     "metadata": {},
     "output_type": "display_data"
    }
   ],
   "source": [
    "plt.imshow(medfilt2d(temp, 15), vmin=32, vmax=37)"
   ]
  },
  {
   "cell_type": "markdown",
   "metadata": {},
   "source": [
    "## 感温液晶(修論時)"
   ]
  },
  {
   "cell_type": "code",
   "execution_count": 302,
   "metadata": {
    "collapsed": true
   },
   "outputs": [],
   "source": [
    "x = []\n",
    "\n",
    "for i in range(16):\n",
    "    data = pd.read_csv('/mnt/Omer/Project/03.LinearRegionalCooling/AnalysisResult/Experiment/20190125/thermocouple/S%s/dat00001.csv' % \"{0:03d}\".format(i+4))\n",
    "    x.append(np.average(data['Chan 101 (C)']))"
   ]
  },
  {
   "cell_type": "code",
   "execution_count": 303,
   "metadata": {
    "collapsed": false
   },
   "outputs": [
    {
     "data": {
      "text/plain": [
       "[24.580373333333331,\n",
       " 25.067766666666667,\n",
       " 25.979243333333333,\n",
       " 26.738813333333333,\n",
       " 27.652256666666666,\n",
       " 28.735250000000004,\n",
       " 29.462246666666662,\n",
       " 30.207153333333334,\n",
       " 31.121573333333334,\n",
       " 32.299473333333339,\n",
       " 33.139513333333333,\n",
       " 34.141400000000004,\n",
       " 35.163889999999995,\n",
       " 36.018713333333338,\n",
       " 36.675023333333336,\n",
       " 37.897313333333337]"
      ]
     },
     "execution_count": 303,
     "metadata": {},
     "output_type": "execute_result"
    }
   ],
   "source": [
    "x"
   ]
  },
  {
   "cell_type": "code",
   "execution_count": 304,
   "metadata": {
    "collapsed": false
   },
   "outputs": [],
   "source": [
    "data = np.zeros((150, 150, 3, 16)).astype(np.uint8)\n",
    "\n",
    "for i in range(16):\n",
    "    img = np.zeros((150, 150, 3, 150)).astype(np.uint8)\n",
    "    for j in range(150):\n",
    "        temp_img = cv2.imread('/mnt/Omer/Project/03.LinearRegionalCooling/AnalysisResult/Experiment/20190125/figures/S%s/%s.png' % (\"{0:03d}\".format(i+4), \"{0:04d}\".format(j)))\n",
    "        temp_img = cv2.cvtColor(temp_img, cv2.COLOR_BGR2RGB)\n",
    "        temp_img = cv2.resize(temp_img, (150, 150))\n",
    "        img[:, :, :, j] = cv2.medianBlur(temp_img, 15)\n",
    "\n",
    "    average_img = np.average(img, axis=3)\n",
    "    data[:, :, :, i] = average_img"
   ]
  },
  {
   "cell_type": "code",
   "execution_count": 308,
   "metadata": {
    "collapsed": false
   },
   "outputs": [],
   "source": [
    "tt = np.linspace(x[0], x[-1], 300)\n",
    "calib_data = np.zeros((150, 150, 3, 300)).astype(np.float16)\n",
    "\n",
    "for i in range(150):\n",
    "    for j in range(150):\n",
    "        fit_paramsR = np.polyfit(x, data[i,j,0,:], 3)\n",
    "        calib_data[i,j,0,:] = np.poly1d(fit_paramsR)(tt)\n",
    "        fit_paramsG = np.polyfit(x, data[i,j,1,:], 3)\n",
    "        calib_data[i,j,1,:] = np.poly1d(fit_paramsG)(tt)\n",
    "        fit_paramsB = np.polyfit(x, data[i,j,2,:], 3)\n",
    "        calib_data[i,j,2,:] = np.poly1d(fit_paramsB)(tt)\n",
    "        \n",
    "#         calib_data[i, j, 0, :] = red/(red+green+blue)\n",
    "#         calib_data[i, j, 1, :] = green/(red+green+blue)\n",
    "#         calib_data[i, j, 2, :] = blue/(red+green+blue)"
   ]
  },
  {
   "cell_type": "code",
   "execution_count": 310,
   "metadata": {
    "collapsed": false
   },
   "outputs": [],
   "source": [
    "plt.scatter(x, data[75, 75, 0, :], color='r', s=8)\n",
    "plt.scatter(x, data[75, 75, 1, :], color='g', s=8)\n",
    "plt.scatter(x, data[75, 75, 2, :], color='b', s=8)\n",
    "\n",
    "plt.plot(tt, calib_data[75, 75, 0, :], color='red', label='R')\n",
    "plt.plot(tt, calib_data[75, 75, 1, :], color='green', label='G')\n",
    "plt.plot(tt, calib_data[75, 75, 2, :], color='blue', label='B')\n",
    "\n",
    "plt.xticks(size=14)\n",
    "plt.yticks(size=14)\n",
    "plt.legend(fontsize=14, scatterpoints=1, bbox_to_anchor=(1.25, 1.02))\n",
    "plt.xlim([24, 38.5])\n",
    "# plt.ylim([0.22, 0.42])\n",
    "plt.gcf().subplots_adjust(right=0.80)\n",
    "\n",
    "plt.savefig('/mnt/Omer/Project/03.LinearRegionalCooling/AnalysisResult/Experiment/20190125/color_temperature_regression.png', dpi=300)\n",
    "plt.close()"
   ]
  },
  {
   "cell_type": "code",
   "execution_count": 313,
   "metadata": {
    "collapsed": false
   },
   "outputs": [],
   "source": [
    "plt.scatter(x, data[75, 75, 0, :], color='black', label='R', marker='o')\n",
    "plt.plot(tt, calib_data[75, 75, 0, :], color='black', label='R', linestyle='-')\n",
    "\n",
    "plt.scatter(x, data[75, 75, 1, :], color='black', label='G', marker='v')\n",
    "plt.plot(tt, calib_data[75, 75, 1, :], color='black', label='G', linestyle='--')\n",
    "\n",
    "plt.scatter(x, data[75, 75, 2, :], color='black', label='B', marker='^')\n",
    "plt.plot(tt, calib_data[75, 75, 2, :], color='black', label='B', linestyle=':')\n",
    "\n",
    "plt.xticks(size=14)\n",
    "plt.yticks(size=14)\n",
    "plt.legend(fontsize=14, scatterpoints=1, bbox_to_anchor=(1.25, 1.02))\n",
    "plt.xlim([24, 38.5])\n",
    "# plt.ylim([0.22, 0.42])\n",
    "plt.gcf().subplots_adjust(right=0.80)\n",
    "\n",
    "plt.savefig('/mnt/Omer/Project/03.LinearRegionalCooling/AnalysisResult/Experiment/20190125/color_temperature_regression_gray.png', dpi=300)\n",
    "plt.close()"
   ]
  },
  {
   "cell_type": "code",
   "execution_count": 315,
   "metadata": {
    "collapsed": false
   },
   "outputs": [],
   "source": [
    "from mpl_toolkits.mplot3d import Axes3D\n",
    "\n",
    "fig = plt.figure()\n",
    "ax = fig.add_subplot(111, projection='3d')\n",
    "\n",
    "ax.scatter(calib_data[75,75,0,:], calib_data[75,75,1,:], calib_data[75,75,2,:], s=3, c='black')\n",
    "plt.xlabel('R', size=14)\n",
    "plt.ylabel('G', size=14)\n",
    "ax.set_zlabel('B', size=14)\n",
    "plt.tight_layout()\n",
    "\n",
    "plt.savefig('/mnt/Omer/Project/03.LinearRegionalCooling/AnalysisResult/Experiment/20190125/RGB_3Dplot_gray.png', dpi=300)\n",
    "plt.close()"
   ]
  },
  {
   "cell_type": "code",
   "execution_count": 130,
   "metadata": {
    "collapsed": true
   },
   "outputs": [],
   "source": [
    "import cv2\n",
    "from scipy.ndimage.filters import gaussian_filter1d"
   ]
  },
  {
   "cell_type": "code",
   "execution_count": 192,
   "metadata": {
    "collapsed": false
   },
   "outputs": [
    {
     "data": {
      "text/plain": [
       "37.051086376811597"
      ]
     },
     "execution_count": 192,
     "metadata": {},
     "output_type": "execute_result"
    }
   ],
   "source": [
    "tt[-20]"
   ]
  },
  {
   "cell_type": "code",
   "execution_count": 320,
   "metadata": {
    "collapsed": false
   },
   "outputs": [],
   "source": [
    "from scipy.signal import medfilt2d\n",
    "\n",
    "for t in range(5):\n",
    "    img = np.zeros_like(temp_img).astype(np.float16)\n",
    "\n",
    "    temp_img = cv2.imread('/mnt/Omer/Project/03.LinearRegionalCooling/AnalysisResult/Experiment/20190125/figures/S001/%s.png' % '{0:04d}'.format(t*60+300))\n",
    "    temp_img = cv2.cvtColor(temp_img, cv2.COLOR_BGR2RGB)\n",
    "    # temp_img = cv2.resize(temp_img, (150, 150))\n",
    "    img = cv2.medianBlur(temp_img, 15)\n",
    "    \n",
    "\n",
    "#     for i in range(150):\n",
    "#         for j in range(150):\n",
    "#             img[i,j,0] = temp_img[i,j,0]/(temp_img[i,j,0]+temp_img[i,j,1]+temp_img[i,j,2])\n",
    "#             img[i,j,1] = temp_img[i,j,1]/(temp_img[i,j,0]+temp_img[i,j,1]+temp_img[i,j,2])\n",
    "#             img[i,j,2] = temp_img[i,j,2]/(temp_img[i,j,0]+temp_img[i,j,1]+temp_img[i,j,2])\n",
    "            \n",
    "    temp = np.zeros((150, 150)).astype(np.float32)\n",
    "\n",
    "    for i in range(150):\n",
    "        for j in range(150):\n",
    "            temp[i,j] = tt[np.apply_along_axis(np.linalg.norm, 1, calib_data[i, j, :, :].T-img[i, j, :]).argmin()]\n",
    "\n",
    "    plt.imsave('/mnt/Omer/Project/03.LinearRegionalCooling/AnalysisResult/Experiment/IEEE/20190125/S001/temperature/jet/%s.png' % '{0:04d}'.format(t*60+300), medfilt2d(temp, 15), vmin=30, vmax=38, cmap='jet')\n",
    "    plt.close()\n",
    "    \n",
    "    plt.imsave('/mnt/Omer/Project/03.LinearRegionalCooling/AnalysisResult/Experiment/IEEE/20190125/S001/temperature/gray/%s.png' % '{0:04d}'.format(t*60+300), medfilt2d(temp, 15), vmin=30, vmax=38, cmap='gray')\n",
    "    plt.close()"
   ]
  },
  {
   "cell_type": "code",
   "execution_count": 4,
   "metadata": {
    "collapsed": false
   },
   "outputs": [],
   "source": [
    "a = np.ones((200, 200))*38\n",
    "a[0,0] = 30\n",
    "plt.imshow(a, cmap='jet')\n",
    "plt.colorbar()\n",
    "plt.savefig('/mnt/Omer/Project/03.LinearRegionalCooling/AnalysisResult/Experiment/IEEE/20190125/colorbar.png')\n",
    "plt.close()"
   ]
  },
  {
   "cell_type": "code",
   "execution_count": null,
   "metadata": {
    "collapsed": true
   },
   "outputs": [],
   "source": []
  }
 ],
 "metadata": {
  "kernelspec": {
   "display_name": "Python [Root]",
   "language": "python",
   "name": "Python [Root]"
  },
  "language_info": {
   "codemirror_mode": {
    "name": "ipython",
    "version": 3
   },
   "file_extension": ".py",
   "mimetype": "text/x-python",
   "name": "python",
   "nbconvert_exporter": "python",
   "pygments_lexer": "ipython3",
   "version": "3.5.2"
  }
 },
 "nbformat": 4,
 "nbformat_minor": 2
}
