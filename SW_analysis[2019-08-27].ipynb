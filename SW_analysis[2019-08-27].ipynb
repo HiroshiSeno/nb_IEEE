{
 "cells": [
  {
   "cell_type": "code",
   "execution_count": 46,
   "metadata": {
    "collapsed": false
   },
   "outputs": [],
   "source": [
    "import numpy as np\n",
    "import matplotlib.pyplot as plt\n",
    "import os\n",
    "import subprocess\n",
    "import matplotlib\n",
    "import copy\n",
    "import cv2\n",
    "# matplotlib.font_manager._rebuild()\n",
    "# plt.rcParams['font.family'] = 'Times New Roman' #全体のフォントを設定\n",
    "%matplotlib inline"
   ]
  },
  {
   "cell_type": "code",
   "execution_count": 2,
   "metadata": {
    "collapsed": true
   },
   "outputs": [],
   "source": [
    "import sys\n",
    "sys.path.append(\"/notebooks/nb_IEEE/opmap/\")"
   ]
  },
  {
   "cell_type": "code",
   "execution_count": 3,
   "metadata": {
    "collapsed": false
   },
   "outputs": [],
   "source": [
    "import opmap\n",
    "from opmap.rawCam import RawCam\n",
    "from opmap.vmemMap import VmemMap\n",
    "from opmap.apdMap import APDMap\n",
    "from opmap.phaseMapHilbert import PhaseMapHilbert as PhaseMap\n",
    "from opmap.phaseVarianceMap import PhaseVarianceMap"
   ]
  },
  {
   "cell_type": "code",
   "execution_count": 4,
   "metadata": {
    "collapsed": true
   },
   "outputs": [],
   "source": [
    "def FFT(vmem_1d, N, dt, fc_low=None, fc_high=None):\n",
    "    fq = np.linspace(0, 1.0/dt, N)\n",
    "    F = np.fft.fft(vmem_1d)\n",
    "    if fc_low is not None:\n",
    "        F[(fq <= fc_low)] = 0\n",
    "    if fc_high is not None:\n",
    "        F[(fq >= fc_high)] = 0\n",
    "    \n",
    "    F_abs = np.abs(F)\n",
    "    F_abs_amp = F_abs/N\n",
    "#     F_abs_amp[0] = F_abs_amp[0]/2\n",
    "    F_abs_amp[0] = 0\n",
    "    \n",
    "    F_ifft = np.fft.ifft(F)\n",
    "    F_ifft_real = F_ifft.real * 2\n",
    "    \n",
    "    return F_ifft_real"
   ]
  },
  {
   "cell_type": "code",
   "execution_count": 5,
   "metadata": {
    "collapsed": true
   },
   "outputs": [],
   "source": [
    "def isochronal(pmap, threshold):\n",
    "    contour = np.zeros_like(pmap.data)\n",
    "\n",
    "    for i in range(contour.shape[1]):\n",
    "        for j in range(contour.shape[2]):        \n",
    "            if pmap.roi[i,j] == 1:\n",
    "                counter = 0\n",
    "                for time in range(contour.shape[0]):\n",
    "                    if time == 0:\n",
    "                        pass\n",
    "                    elif ((pmap.data[time-1, i, j] < threshold) * (pmap.data[time, i, j] > threshold)) == 1:\n",
    "                        counter = 0\n",
    "\n",
    "                    contour[time, i, j] = counter\n",
    "                    counter += 1\n",
    "                \n",
    "    return contour"
   ]
  },
  {
   "cell_type": "markdown",
   "metadata": {},
   "source": [
    "## 旋回興奮に対する冷却"
   ]
  },
  {
   "cell_type": "code",
   "execution_count": 7,
   "metadata": {
    "collapsed": true
   },
   "outputs": [],
   "source": [
    "import cv2"
   ]
  },
  {
   "cell_type": "markdown",
   "metadata": {},
   "source": [
    "### 20181218-1/C001H001S0026"
   ]
  },
  {
   "cell_type": "code",
   "execution_count": 6,
   "metadata": {
    "collapsed": false
   },
   "outputs": [
    {
     "name": "stdout",
     "output_type": "stream",
     "text": [
      "/mnt/Jalife/ExperimentData/20181218-1/C001H001S0026/\n"
     ]
    }
   ],
   "source": [
    "parent_path = '/mnt/Jalife/ExperimentData/'\n",
    "\n",
    "data_path = os.path.join(parent_path, '20181218-1/C001H001S0026/')\n",
    "print(data_path)\n",
    "start = 29500\n",
    "end = 30500\n",
    "date = data_path.split('/')[-3]\n",
    "session_name = data_path.split('/')[-2]\n",
    "save_parent = os.path.join('/mnt/Omer/Project/03.LinearRegionalCooling/AnalysisResult/Experiment/IEEE/', '%s/%s/%s-%s' % (date, session_name, start, end))\n",
    "\n",
    "raw = RawCam(path=data_path, cam_type='sa4',\n",
    "          image_width=256, image_height=256, frame_start=start, frame_end=end)\n",
    "\n",
    "vmem = VmemMap(raw)\n",
    "\n",
    "#roi_png = cv2.imread('/mnt/Omer/Project/03.LinearRegionalCooling/AnalysisResult/Experiment/20181121-1/C001H001S0007/roi.png', cv2.IMREAD_GRAYSCALE)\n",
    "#roi_png = roi_png/255.0\n",
    "\n",
    "#vmem.roi = roi_png\n",
    "#vmem.data = vmem.data * vmem.roi\n",
    "\n",
    "for i in range(vmem.data.shape[1]):\n",
    "    for j in range(vmem.data.shape[2]):\n",
    "        vmem.data[:, i, j] = FFT(vmem.data[:, i, j], vmem.data.shape[0], 0.002, fc_low=2, fc_high=50)\n",
    "\n",
    "vmem.smooth(size=9)"
   ]
  },
  {
   "cell_type": "code",
   "execution_count": 42,
   "metadata": {
    "collapsed": false
   },
   "outputs": [],
   "source": [
    "os.makedirs(os.path.join(save_parent, 'pmap'))"
   ]
  },
  {
   "cell_type": "code",
   "execution_count": 7,
   "metadata": {
    "collapsed": true
   },
   "outputs": [],
   "source": [
    "pmap = PhaseMap(vmem)"
   ]
  },
  {
   "cell_type": "code",
   "execution_count": 47,
   "metadata": {
    "collapsed": false
   },
   "outputs": [],
   "source": [
    "for i in range(1000):\n",
    "    dat = copy.deepcopy(pmap.data[i]) - 2\n",
    "    dat = dat +(dat < -np.pi)*2*np.pi\n",
    "    \n",
    "    plt.imsave(os.path.join(save_parent, 'pmap/%s.png' % '{0:04d}'.format(i)),\n",
    "               dat*cv2.resize(vmem.roi, (128, 128))*(-1), vmin=-np.pi, vmax=np.pi, cmap='jet')\n",
    "    plt.close()"
   ]
  },
  {
   "cell_type": "markdown",
   "metadata": {},
   "source": [
    "## 20181218-1/C001H001S0028"
   ]
  },
  {
   "cell_type": "code",
   "execution_count": 48,
   "metadata": {
    "collapsed": false
   },
   "outputs": [
    {
     "name": "stdout",
     "output_type": "stream",
     "text": [
      "/mnt/Jalife/ExperimentData/20181218-1/C001H001S0028/\n"
     ]
    }
   ],
   "source": [
    "parent_path = '/mnt/Jalife/ExperimentData/'\n",
    "\n",
    "data_path = os.path.join(parent_path, '20181218-1/C001H001S0028/')\n",
    "print(data_path)\n",
    "start = 21000\n",
    "end = 22000\n",
    "date = data_path.split('/')[-3]\n",
    "session_name = data_path.split('/')[-2]\n",
    "save_parent = os.path.join('/mnt/Omer/Project/03.LinearRegionalCooling/AnalysisResult/Experiment/IEEE/', '%s/%s/%s-%s' % (date, session_name, start, end))\n",
    "\n",
    "raw = RawCam(path=data_path, cam_type='sa4',\n",
    "          image_width=256, image_height=256, frame_start=start, frame_end=end)\n",
    "\n",
    "vmem = VmemMap(raw)\n",
    "\n",
    "#roi_png = cv2.imread('/mnt/Omer/Project/03.LinearRegionalCooling/AnalysisResult/Experiment/20181121-1/C001H001S0007/roi.png', cv2.IMREAD_GRAYSCALE)\n",
    "#roi_png = roi_png/255.0\n",
    "\n",
    "#vmem.roi = roi_png\n",
    "#vmem.data = vmem.data * vmem.roi\n",
    "\n",
    "for i in range(vmem.data.shape[1]):\n",
    "    for j in range(vmem.data.shape[2]):\n",
    "        vmem.data[:, i, j] = FFT(vmem.data[:, i, j], vmem.data.shape[0], 0.002, fc_low=2, fc_high=50)\n",
    "\n",
    "vmem.smooth(size=9)"
   ]
  },
  {
   "cell_type": "code",
   "execution_count": 49,
   "metadata": {
    "collapsed": true
   },
   "outputs": [],
   "source": [
    "os.makedirs(os.path.join(save_parent, 'pmap'))\n",
    "pmap = PhaseMap(vmem)"
   ]
  },
  {
   "cell_type": "code",
   "execution_count": 50,
   "metadata": {
    "collapsed": true
   },
   "outputs": [],
   "source": [
    "for i in range(1000):\n",
    "    dat = copy.deepcopy(pmap.data[i]) - 2\n",
    "    dat = dat +(dat < -np.pi)*2*np.pi\n",
    "    \n",
    "    plt.imsave(os.path.join(save_parent, 'pmap/%s.png' % '{0:04d}'.format(i)),\n",
    "               dat*cv2.resize(vmem.roi, (128, 128))*(-1), vmin=-np.pi, vmax=np.pi, cmap='jet')\n",
    "    plt.close()"
   ]
  },
  {
   "cell_type": "markdown",
   "metadata": {},
   "source": [
    "## batch phase variance analysis"
   ]
  },
  {
   "cell_type": "code",
   "execution_count": 51,
   "metadata": {
    "collapsed": true
   },
   "outputs": [],
   "source": [
    "analysis_path = [\"/mnt/Jalife/ExperimentData/20181121-1/C001H001S0008/\",\n",
    "                 \"/mnt/Jalife/ExperimentData/20181121-1/C001H001S0014/\",\n",
    "                 \"/mnt/Jalife/ExperimentData/20181121-1/C001H001S0017/\",\n",
    "                 \"/mnt/Jalife/ExperimentData/20181121-1/C001H001S0021/\",\n",
    "                 \"/mnt/Jalife/ExperimentData/20181218-1/C001H001S0007/\",\n",
    "                 \"/mnt/Jalife/ExperimentData/20181218-1/C001H001S0008/\",\n",
    "                 \"/mnt/Jalife/ExperimentData/20181218-1/C001H001S0009/\",\n",
    "                 \"/mnt/Jalife/ExperimentData/20181218-1/C001H001S0011/\",\n",
    "                 \"/mnt/Jalife/ExperimentData/20181218-1/C001H001S0017/\",\n",
    "                 \"/mnt/Jalife/ExperimentData/20181218-1/C001H001S0018/\",\n",
    "                 \"/mnt/Jalife/ExperimentData/20181218-1/C001H001S0020/\",\n",
    "                 \"/mnt/Jalife/ExperimentData/20181218-1/C001H001S0022/\",\n",
    "                 \"/mnt/Jalife/ExperimentData/20181218-1/C001H001S0024/\",\n",
    "                 \"/mnt/Jalife/ExperimentData/20181218-1/C001H001S0026/\",\n",
    "                 \"/mnt/Jalife/ExperimentData/20181218-1/C001H001S0028/\",\n",
    "                 \"/mnt/Jalife/ExperimentData/20181220-1/C001H001S0007/\",\n",
    "                 \"/mnt/Jalife/ExperimentData/20181220-1/C001H001S0009/\",\n",
    "                 \"/mnt/Jalife/ExperimentData/20181220-1/C001H001S0010/\",\n",
    "                 \"/mnt/Jalife/ExperimentData/20181220-1/C001H001S0012/\",\n",
    "                 \"/mnt/Jalife/ExperimentData/20181220-1/C001H001S0014/\",\n",
    "                 \"/mnt/Jalife/ExperimentData/20181220-1/C001H001S0015/\",\n",
    "                 \"/mnt/Jalife/ExperimentData/20181220-1/C001H001S0018/\",\n",
    "                 \"/mnt/Jalife/ExperimentData/20181220-1/C001H001S0020/\",\n",
    "                 \"/mnt/Jalife/ExperimentData/20181220-1/C001H001S0022/\"\n",
    "                ]"
   ]
  },
  {
   "cell_type": "code",
   "execution_count": 62,
   "metadata": {
    "collapsed": false
   },
   "outputs": [
    {
     "name": "stdout",
     "output_type": "stream",
     "text": [
      "20181121-1 C001H001S0008\n",
      "20181121-1 C001H001S0014\n",
      "20181121-1 C001H001S0017\n",
      "20181121-1 C001H001S0021\n",
      "20181218-1 C001H001S0007\n",
      "20181218-1 C001H001S0008\n",
      "20181218-1 C001H001S0009\n",
      "20181218-1 C001H001S0011\n",
      "20181218-1 C001H001S0017\n",
      "20181218-1 C001H001S0018\n",
      "20181218-1 C001H001S0020\n",
      "20181218-1 C001H001S0022\n",
      "20181218-1 C001H001S0024\n",
      "20181218-1 C001H001S0026\n",
      "20181218-1 C001H001S0028\n",
      "20181220-1 C001H001S0007\n",
      "20181220-1 C001H001S0009\n",
      "20181220-1 C001H001S0010\n",
      "20181220-1 C001H001S0012\n",
      "20181220-1 C001H001S0014\n",
      "20181220-1 C001H001S0015\n",
      "20181220-1 C001H001S0018\n",
      "20181220-1 C001H001S0020\n",
      "20181220-1 C001H001S0022\n"
     ]
    }
   ],
   "source": [
    "for analysis in analysis_path:\n",
    "    #print(analysis)\n",
    "    \n",
    "    start = 0\n",
    "    end = 10\n",
    "    \n",
    "    date = analysis.split('/')[-3]\n",
    "    session_name = analysis.split('/')[-2]\n",
    "    print(date, session_name)\n",
    "    \n",
    "    save_name = os.path.join('/mnt/Omer/Project/03.LinearRegionalCooling/AnalysisResult/Experiment/IEEE/raw', '%s_%s.png' % (date, session_name))\n",
    "    \n",
    "    raw = RawCam(path=analysis, cam_type='sa4',\n",
    "          image_width=256, image_height=256, frame_start=start, frame_end=end)\n",
    "    \n",
    "    plt.imsave(save_name, raw.data[5]/np.max(raw.data[5]), vmin=0, vmax=1, cmap='gray')\n",
    "    plt.close()"
   ]
  },
  {
   "cell_type": "code",
   "execution_count": 63,
   "metadata": {
    "collapsed": true
   },
   "outputs": [],
   "source": [
    "analysis_path = [[\"/mnt/Jalife/ExperimentData/20181121-1/C001H001S0008/\", 29000, 30000,\n",
    "                  \"/mnt/Omer/Project/03.LinearRegionalCooling/AnalysisResult/Experiment/IEEE/mask/20181121-1_C001H001S0014.png\"],\n",
    "                 [\"/mnt/Jalife/ExperimentData/20181121-1/C001H001S0014/\", 29000, 30000,\n",
    "                  \"/mnt/Omer/Project/03.LinearRegionalCooling/AnalysisResult/Experiment/IEEE/mask/20181121-1_C001H001S0014.png\"],\n",
    "                 [\"/mnt/Jalife/ExperimentData/20181121-1/C001H001S0017/\", 21500, 22500,\n",
    "                  \"/mnt/Omer/Project/03.LinearRegionalCooling/AnalysisResult/Experiment/IEEE/mask/20181121-1_C001H001S0017.png\"],\n",
    "                 [\"/mnt/Jalife/ExperimentData/20181121-1/C001H001S0021/\", 29000, 30000,\n",
    "                  \"/mnt/Omer/Project/03.LinearRegionalCooling/AnalysisResult/Experiment/IEEE/mask/20181121-1_C001H001S0017.png\"],\n",
    "                 [\"/mnt/Jalife/ExperimentData/20181218-1/C001H001S0007/\", 29000, 30000,\n",
    "                  \"/mnt/Omer/Project/03.LinearRegionalCooling/AnalysisResult/Experiment/IEEE/mask/20181218-1_C001H001S0007.png\"],\n",
    "                 [\"/mnt/Jalife/ExperimentData/20181218-1/C001H001S0008/\", 29000, 30000,\n",
    "                  \"/mnt/Omer/Project/03.LinearRegionalCooling/AnalysisResult/Experiment/IEEE/mask/20181218-1_C001H001S0007.png\"],\n",
    "                 [\"/mnt/Jalife/ExperimentData/20181218-1/C001H001S0009/\", 29000, 30000,\n",
    "                  \"/mnt/Omer/Project/03.LinearRegionalCooling/AnalysisResult/Experiment/IEEE/mask/20181218-1_C001H001S0009.png\"],\n",
    "                 [\"/mnt/Jalife/ExperimentData/20181218-1/C001H001S0011/\", 29000, 30000,\n",
    "                  \"/mnt/Omer/Project/03.LinearRegionalCooling/AnalysisResult/Experiment/IEEE/mask/20181218-1_C001H001S0009.png\"],\n",
    "                 [\"/mnt/Jalife/ExperimentData/20181218-1/C001H001S0017/\", 29000, 30000,\n",
    "                  \"/mnt/Omer/Project/03.LinearRegionalCooling/AnalysisResult/Experiment/IEEE/mask/20181218-1_C001H001S0009.png\"],\n",
    "                 [\"/mnt/Jalife/ExperimentData/20181218-1/C001H001S0018/\", 24200, 25200,\n",
    "                  \"/mnt/Omer/Project/03.LinearRegionalCooling/AnalysisResult/Experiment/IEEE/mask/20181218-1_C001H001S0018.png\"],\n",
    "                 [\"/mnt/Jalife/ExperimentData/20181218-1/C001H001S0020/\", 6700, 7700,\n",
    "                  \"/mnt/Omer/Project/03.LinearRegionalCooling/AnalysisResult/Experiment/IEEE/mask/20181218-1_C001H001S0018.png\"],\n",
    "                 [\"/mnt/Jalife/ExperimentData/20181218-1/C001H001S0022/\", 25700, 26700,\n",
    "                  \"/mnt/Omer/Project/03.LinearRegionalCooling/AnalysisResult/Experiment/IEEE/mask/20181218-1_C001H001S0018.png\"],\n",
    "                 [\"/mnt/Jalife/ExperimentData/20181218-1/C001H001S0024/\", 29000, 30000,\n",
    "                  \"/mnt/Omer/Project/03.LinearRegionalCooling/AnalysisResult/Experiment/IEEE/mask/20181218-1_C001H001S0018.png\"],\n",
    "                 [\"/mnt/Jalife/ExperimentData/20181218-1/C001H001S0026/\", 29500, 30500,\n",
    "                  \"/mnt/Omer/Project/03.LinearRegionalCooling/AnalysisResult/Experiment/IEEE/mask/20181218-1_C001H001S0018.png\"],\n",
    "                 [\"/mnt/Jalife/ExperimentData/20181218-1/C001H001S0028/\", 21000, 22000,\n",
    "                  \"/mnt/Omer/Project/03.LinearRegionalCooling/AnalysisResult/Experiment/IEEE/mask/20181218-1_C001H001S0018.png\"],\n",
    "                 [\"/mnt/Jalife/ExperimentData/20181220-1/C001H001S0007/\", 29000, 30000,\n",
    "                  \"/mnt/Omer/Project/03.LinearRegionalCooling/AnalysisResult/Experiment/IEEE/mask/20181220-1_C001H001S0007.png\"],\n",
    "                 [\"/mnt/Jalife/ExperimentData/20181220-1/C001H001S0009/\", 29000, 30000,\n",
    "                  \"/mnt/Omer/Project/03.LinearRegionalCooling/AnalysisResult/Experiment/IEEE/mask/20181220-1_C001H001S0007.png\"],\n",
    "                 [\"/mnt/Jalife/ExperimentData/20181220-1/C001H001S0010/\", 29000, 30000,\n",
    "                  \"/mnt/Omer/Project/03.LinearRegionalCooling/AnalysisResult/Experiment/IEEE/mask/20181220-1_C001H001S0012.png\"],\n",
    "                 [\"/mnt/Jalife/ExperimentData/20181220-1/C001H001S0012/\", 9500, 10500,\n",
    "                  \"/mnt/Omer/Project/03.LinearRegionalCooling/AnalysisResult/Experiment/IEEE/mask/20181220-1_C001H001S0012.png\"],\n",
    "                 [\"/mnt/Jalife/ExperimentData/20181220-1/C001H001S0014/\", 29000, 30000,\n",
    "                  \"/mnt/Omer/Project/03.LinearRegionalCooling/AnalysisResult/Experiment/IEEE/mask/20181220-1_C001H001S0012.png\"],\n",
    "                 [\"/mnt/Jalife/ExperimentData/20181220-1/C001H001S0015/\", 29000, 30000,\n",
    "                  \"/mnt/Omer/Project/03.LinearRegionalCooling/AnalysisResult/Experiment/IEEE/mask/20181220-1_C001H001S0020.png\"],\n",
    "                 [\"/mnt/Jalife/ExperimentData/20181220-1/C001H001S0018/\", 10000, 11000,\n",
    "                  \"/mnt/Omer/Project/03.LinearRegionalCooling/AnalysisResult/Experiment/IEEE/mask/20181220-1_C001H001S0020.png\"],\n",
    "                 [\"/mnt/Jalife/ExperimentData/20181220-1/C001H001S0020/\", 7300, 8300,\n",
    "                  \"/mnt/Omer/Project/03.LinearRegionalCooling/AnalysisResult/Experiment/IEEE/mask/20181220-1_C001H001S0020.png\"],\n",
    "                 [\"/mnt/Jalife/ExperimentData/20181220-1/C001H001S0022/\", 29000, 30000,\n",
    "                  \"/mnt/Omer/Project/03.LinearRegionalCooling/AnalysisResult/Experiment/IEEE/mask/20181220-1_C001H001S0020.png\"]\n",
    "                ]"
   ]
  },
  {
   "cell_type": "code",
   "execution_count": 89,
   "metadata": {
    "collapsed": false
   },
   "outputs": [
    {
     "name": "stdout",
     "output_type": "stream",
     "text": [
      "/mnt/Jalife/ExperimentData/20181121-1/C001H001S0008/ 29000 30000\n",
      "20181121-1 C001H001S0008\n",
      "/mnt/Jalife/ExperimentData/20181121-1/C001H001S0014/ 29000 30000\n",
      "20181121-1 C001H001S0014\n",
      "/mnt/Jalife/ExperimentData/20181121-1/C001H001S0017/ 21500 22500\n",
      "20181121-1 C001H001S0017\n",
      "/mnt/Jalife/ExperimentData/20181121-1/C001H001S0021/ 29000 30000\n",
      "20181121-1 C001H001S0021\n",
      "/mnt/Jalife/ExperimentData/20181218-1/C001H001S0007/ 29000 30000\n",
      "20181218-1 C001H001S0007\n",
      "/mnt/Jalife/ExperimentData/20181218-1/C001H001S0008/ 29000 30000\n",
      "20181218-1 C001H001S0008\n",
      "/mnt/Jalife/ExperimentData/20181218-1/C001H001S0009/ 29000 30000\n",
      "20181218-1 C001H001S0009\n",
      "/mnt/Jalife/ExperimentData/20181218-1/C001H001S0011/ 29000 30000\n",
      "20181218-1 C001H001S0011\n",
      "/mnt/Jalife/ExperimentData/20181218-1/C001H001S0017/ 29000 30000\n",
      "20181218-1 C001H001S0017\n",
      "/mnt/Jalife/ExperimentData/20181218-1/C001H001S0018/ 24200 25200\n",
      "20181218-1 C001H001S0018\n",
      "/mnt/Jalife/ExperimentData/20181218-1/C001H001S0020/ 6700 7700\n",
      "20181218-1 C001H001S0020\n",
      "/mnt/Jalife/ExperimentData/20181218-1/C001H001S0022/ 25700 26700\n",
      "20181218-1 C001H001S0022\n",
      "/mnt/Jalife/ExperimentData/20181218-1/C001H001S0024/ 29000 30000\n",
      "20181218-1 C001H001S0024\n",
      "/mnt/Jalife/ExperimentData/20181218-1/C001H001S0026/ 29500 30500\n",
      "20181218-1 C001H001S0026\n",
      "/mnt/Jalife/ExperimentData/20181218-1/C001H001S0028/ 21000 22000\n",
      "20181218-1 C001H001S0028\n",
      "/mnt/Jalife/ExperimentData/20181220-1/C001H001S0007/ 29000 30000\n",
      "20181220-1 C001H001S0007\n",
      "/mnt/Jalife/ExperimentData/20181220-1/C001H001S0009/ 29000 30000\n",
      "20181220-1 C001H001S0009\n",
      "/mnt/Jalife/ExperimentData/20181220-1/C001H001S0010/ 29000 30000\n",
      "20181220-1 C001H001S0010\n",
      "/mnt/Jalife/ExperimentData/20181220-1/C001H001S0012/ 9500 10500\n",
      "20181220-1 C001H001S0012\n",
      "/mnt/Jalife/ExperimentData/20181220-1/C001H001S0014/ 29000 30000\n",
      "20181220-1 C001H001S0014\n",
      "/mnt/Jalife/ExperimentData/20181220-1/C001H001S0015/ 29000 30000\n",
      "20181220-1 C001H001S0015\n",
      "/mnt/Jalife/ExperimentData/20181220-1/C001H001S0018/ 10000 11000\n",
      "20181220-1 C001H001S0018\n",
      "/mnt/Jalife/ExperimentData/20181220-1/C001H001S0020/ 7300 8300\n",
      "20181220-1 C001H001S0020\n",
      "/mnt/Jalife/ExperimentData/20181220-1/C001H001S0022/ 29000 30000\n",
      "20181220-1 C001H001S0022\n"
     ]
    }
   ],
   "source": [
    "for analysis in analysis_path:\n",
    "    \n",
    "    data_path = analysis[0]\n",
    "    start = analysis[1]\n",
    "    end = analysis[2]\n",
    "    mask_dir = analysis[3]\n",
    "    \n",
    "    date = data_path.split('/')[-3]\n",
    "    session_name = data_path.split('/')[-2]\n",
    "    \n",
    "    print(data_path, start, end)\n",
    "    print(date, session_name)\n",
    "    \n",
    "    raw = RawCam(path=data_path, cam_type='sa4',\n",
    "          image_width=256, image_height=256, frame_start=start, frame_end=end)\n",
    "    \n",
    "    vmem = VmemMap(raw)\n",
    "    \n",
    "    roi_png = cv2.imread(mask_dir, cv2.IMREAD_GRAYSCALE)\n",
    "    roi_png = roi_png/255.0\n",
    "\n",
    "    vmem.roi = roi_png\n",
    "    vmem.data = vmem.data * vmem.roi\n",
    "    \n",
    "    for i in range(vmem.data.shape[1]):\n",
    "        for j in range(vmem.data.shape[2]):\n",
    "            vmem.data[:, i, j] = FFT(vmem.data[:, i, j], vmem.data.shape[0], 0.002, fc_low=2, fc_high=50)\n",
    "\n",
    "    vmem.smooth(size=9)\n",
    "    \n",
    "    pmap = PhaseMap(vmem)\n",
    "    pvmap = PhaseVarianceMap(pmap, size=9)\n",
    "    \n",
    "    PS = (pvmap.data > 0.8)*1\n",
    "\n",
    "    plt.imsave(os.path.join(\"/mnt/Omer/Project/03.LinearRegionalCooling/AnalysisResult/Experiment/IEEE/PS_trajectory/\", \"%s_%s.png\" % (date, session_name)),\n",
    "              np.sum(PS, axis=0), cmap=\"viridis\")\n",
    "    plt.close()"
   ]
  },
  {
   "cell_type": "code",
   "execution_count": 90,
   "metadata": {
    "collapsed": true
   },
   "outputs": [],
   "source": [
    "analysis = [\"/mnt/Jalife/ExperimentData/20181121-1/C001H001S0017/\", 21500, 22500,\n",
    "            \"/mnt/Omer/Project/03.LinearRegionalCooling/AnalysisResult/Experiment/IEEE/mask/20181121-1_C001H001S0017.png\"]"
   ]
  },
  {
   "cell_type": "code",
   "execution_count": null,
   "metadata": {
    "collapsed": true
   },
   "outputs": [],
   "source": []
  }
 ],
 "metadata": {
  "anaconda-cloud": {},
  "kernelspec": {
   "display_name": "Python [conda]",
   "language": "python",
   "name": "Python [conda]"
  },
  "language_info": {
   "codemirror_mode": {
    "name": "ipython",
    "version": 3
   },
   "file_extension": ".py",
   "mimetype": "text/x-python",
   "name": "python",
   "nbconvert_exporter": "python",
   "pygments_lexer": "ipython3",
   "version": "3.5.2"
  }
 },
 "nbformat": 4,
 "nbformat_minor": 2
}
