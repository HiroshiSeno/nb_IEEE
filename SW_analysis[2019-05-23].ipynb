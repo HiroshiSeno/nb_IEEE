{
 "cells": [
  {
   "cell_type": "code",
   "execution_count": 1,
   "metadata": {
    "collapsed": false
   },
   "outputs": [
    {
     "name": "stderr",
     "output_type": "stream",
     "text": [
      "/opt/conda/lib/python3.5/site-packages/matplotlib/font_manager.py:273: UserWarning: Matplotlib is building the font cache using fc-list. This may take a moment.\n",
      "  warnings.warn('Matplotlib is building the font cache using fc-list. This may take a moment.')\n",
      "/opt/conda/lib/python3.5/site-packages/matplotlib/font_manager.py:273: UserWarning: Matplotlib is building the font cache using fc-list. This may take a moment.\n",
      "  warnings.warn('Matplotlib is building the font cache using fc-list. This may take a moment.')\n",
      "/opt/conda/lib/python3.5/site-packages/matplotlib/font_manager.py:273: UserWarning: Matplotlib is building the font cache using fc-list. This may take a moment.\n",
      "  warnings.warn('Matplotlib is building the font cache using fc-list. This may take a moment.')\n",
      "/opt/conda/lib/python3.5/site-packages/matplotlib/font_manager.py:273: UserWarning: Matplotlib is building the font cache using fc-list. This may take a moment.\n",
      "  warnings.warn('Matplotlib is building the font cache using fc-list. This may take a moment.')\n"
     ]
    }
   ],
   "source": [
    "import numpy as np\n",
    "import matplotlib.pyplot as plt\n",
    "import os\n",
    "import subprocess\n",
    "import matplotlib\n",
    "matplotlib.font_manager._rebuild()\n",
    "plt.rcParams['font.family'] = 'Times New Roman' #全体のフォントを設定\n",
    "%matplotlib inline"
   ]
  },
  {
   "cell_type": "code",
   "execution_count": 2,
   "metadata": {
    "collapsed": true
   },
   "outputs": [],
   "source": [
    "import sys\n",
    "sys.path.append(\"/notebooks/nb_IEEE/opmap/\")"
   ]
  },
  {
   "cell_type": "code",
   "execution_count": 3,
   "metadata": {
    "collapsed": false
   },
   "outputs": [],
   "source": [
    "import opmap\n",
    "from opmap.rawCam import RawCam\n",
    "from opmap.vmemMap import VmemMap\n",
    "from opmap.apdMap import APDMap\n",
    "from opmap.phaseMapHilbert import PhaseMapHilbert as PhaseMap\n",
    "from opmap.phaseVarianceMap import PhaseVarianceMap"
   ]
  },
  {
   "cell_type": "code",
   "execution_count": 4,
   "metadata": {
    "collapsed": true
   },
   "outputs": [],
   "source": [
    "def FFT(vmem_1d, N, dt, fc_low=None, fc_high=None):\n",
    "    fq = np.linspace(0, 1.0/dt, N)\n",
    "    F = np.fft.fft(vmem_1d)\n",
    "    if fc_low is not None:\n",
    "        F[(fq <= fc_low)] = 0\n",
    "    if fc_high is not None:\n",
    "        F[(fq >= fc_high)] = 0\n",
    "    \n",
    "    F_abs = np.abs(F)\n",
    "    F_abs_amp = F_abs/N\n",
    "#     F_abs_amp[0] = F_abs_amp[0]/2\n",
    "    F_abs_amp[0] = 0\n",
    "    \n",
    "    F_ifft = np.fft.ifft(F)\n",
    "    F_ifft_real = F_ifft.real * 2\n",
    "    \n",
    "    return F_ifft_real"
   ]
  },
  {
   "cell_type": "code",
   "execution_count": 5,
   "metadata": {
    "collapsed": true
   },
   "outputs": [],
   "source": [
    "def isochronal(pmap, threshold):\n",
    "    contour = np.zeros_like(pmap.data)\n",
    "\n",
    "    for i in range(contour.shape[1]):\n",
    "        for j in range(contour.shape[2]):        \n",
    "            if pmap.roi[i,j] == 1:\n",
    "                counter = 0\n",
    "                for time in range(contour.shape[0]):\n",
    "                    if time == 0:\n",
    "                        pass\n",
    "                    elif ((pmap.data[time-1, i, j] < threshold) * (pmap.data[time, i, j] > threshold)) == 1:\n",
    "                        counter = 0\n",
    "\n",
    "                    contour[time, i, j] = counter\n",
    "                    counter += 1\n",
    "                \n",
    "    return contour"
   ]
  },
  {
   "cell_type": "markdown",
   "metadata": {},
   "source": [
    "## 旋回興奮に対する冷却"
   ]
  },
  {
   "cell_type": "code",
   "execution_count": 6,
   "metadata": {
    "collapsed": true
   },
   "outputs": [],
   "source": [
    "import cv2"
   ]
  },
  {
   "cell_type": "markdown",
   "metadata": {},
   "source": [
    "### 20181121-1/C001H001S0008"
   ]
  },
  {
   "cell_type": "code",
   "execution_count": 44,
   "metadata": {
    "collapsed": false
   },
   "outputs": [
    {
     "name": "stdout",
     "output_type": "stream",
     "text": [
      "/mnt/Jalife/ExperimentData/20181121-1/C001H001S0008/\n"
     ]
    }
   ],
   "source": [
    "parent_path = '/mnt/Jalife/ExperimentData/'\n",
    "\n",
    "data_path = os.path.join(parent_path, '20181121-1/C001H001S0008/')\n",
    "print(data_path)\n",
    "start = 29000\n",
    "end = 30000\n",
    "date = data_path.split('/')[-3]\n",
    "session_name = data_path.split('/')[-2]\n",
    "save_parent = os.path.join('/mnt/Omer/Project/03.LinearRegionalCooling/AnalysisResult/Experiment/IEEE/', '%s/%s/%s-%s' % (date, session_name, start, end))\n",
    "\n",
    "raw = RawCam(path=data_path, cam_type='sa4',\n",
    "          image_width=256, image_height=256, frame_start=start, frame_end=end)\n",
    "\n",
    "vmem = VmemMap(raw)\n",
    "\n",
    "roi_png = cv2.imread('/mnt/Omer/Project/03.LinearRegionalCooling/AnalysisResult/Experiment/20181121-1/C001H001S0007/roi.png', cv2.IMREAD_GRAYSCALE)\n",
    "roi_png = roi_png/255.0\n",
    "\n",
    "vmem.roi = roi_png\n",
    "vmem.data = vmem.data * vmem.roi\n",
    "\n",
    "for i in range(vmem.data.shape[1]):\n",
    "    for j in range(vmem.data.shape[2]):\n",
    "        vmem.data[:, i, j] = FFT(vmem.data[:, i, j], vmem.data.shape[0], 0.002, fc_low=2, fc_high=50)\n",
    "\n",
    "vmem.smooth(size=2)"
   ]
  },
  {
   "cell_type": "code",
   "execution_count": 71,
   "metadata": {
    "collapsed": false
   },
   "outputs": [],
   "source": [
    "num = 890\n",
    "img = cv2.imread('/mnt/Omer/Project/03.LinearRegionalCooling/AnalysisResult/Experiment/IEEE/20181121-1/C001H001S0008/29000-30000/jet/pmap/%s.png'%'{0:04d}'.format(num), )\n",
    "img = cv2.cvtColor(img, cv2.COLOR_BGR2RGB)\n",
    "img[59:61,29:31] = 0\n",
    "img[49:51,44:46] = 0\n",
    "img[39:41,59:61] = 0\n",
    "img[29:31,74:76] = 0\n",
    "img[19:21,89:91] = 0\n",
    "plt.imsave('/mnt/Omer/Project/03.LinearRegionalCooling/AnalysisResult/Experiment/IEEE/20181121-1/C001H001S0008/29000-30000/vmem_point.png', img)"
   ]
  },
  {
   "cell_type": "code",
   "execution_count": 38,
   "metadata": {
    "collapsed": true
   },
   "outputs": [],
   "source": [
    "def normilize(data):\n",
    "    return (data-np.min(data))/(np.max(data)-np.min(data))"
   ]
  },
  {
   "cell_type": "code",
   "execution_count": 70,
   "metadata": {
    "collapsed": false
   },
   "outputs": [],
   "source": [
    "plt.figure(figsize=(8,6))\n",
    "plt.subplots_adjust(hspace=0.3) \n",
    "\n",
    "plt.subplot(5,1,1)\n",
    "plt.plot(normilize(vmem.data[650:, 120, 60]))\n",
    "plt.xticks([])\n",
    "plt.yticks([0, 0.25, 0.5, 0.75, 1.0])\n",
    "\n",
    "plt.subplot(5,1,2)\n",
    "plt.plot(normilize(vmem.data[650:, 100, 90]))\n",
    "plt.xticks([])\n",
    "plt.yticks([0, 0.25, 0.5, 0.75, 1.0])\n",
    "\n",
    "plt.subplot(5,1,3)\n",
    "plt.plot(normilize(vmem.data[650:, 80, 120]))\n",
    "plt.xticks([])\n",
    "plt.yticks([0, 0.25, 0.5, 0.75, 1.0])\n",
    "\n",
    "plt.subplot(5,1,4)\n",
    "plt.plot(normilize(vmem.data[650:, 60, 150]))\n",
    "plt.xticks([])\n",
    "plt.yticks([0, 0.25, 0.5, 0.75, 1.0])\n",
    "\n",
    "plt.subplot(5,1,5)\n",
    "plt.plot(normilize(vmem.data[650:, 40, 180]))\n",
    "plt.yticks([0, 0.25, 0.5, 0.75, 1.0])\n",
    "\n",
    "plt.savefig('/mnt/Omer/Project/03.LinearRegionalCooling/AnalysisResult/Experiment/IEEE/20181121-1/C001H001S0008/29000-30000/vmem_comp.png', dpi=300, transparent=True)\n",
    "plt.close()"
   ]
  },
  {
   "cell_type": "markdown",
   "metadata": {},
   "source": [
    "### 20181220-1/C001H001S0012"
   ]
  },
  {
   "cell_type": "code",
   "execution_count": 304,
   "metadata": {
    "collapsed": false
   },
   "outputs": [
    {
     "name": "stdout",
     "output_type": "stream",
     "text": [
      "/mnt/Jalife/ExperimentData/20181220-1/C001H001S0012/\n"
     ]
    }
   ],
   "source": [
    "parent_path = '/mnt/Jalife/ExperimentData/'\n",
    "\n",
    "data_path = os.path.join(parent_path, '20181220-1/C001H001S0012/')\n",
    "print(data_path)\n",
    "start = 10000\n",
    "end = 10500\n",
    "date = data_path.split('/')[-3]\n",
    "session_name = data_path.split('/')[-2]\n",
    "save_parent = os.path.join('/mnt/Omer/Project/03.LinearRegionalCooling/AnalysisResult/Experiment/IEEE/', '%s/%s/%s-%s' % (date, session_name, start, end))\n",
    "\n",
    "raw = RawCam(path=data_path, cam_type='sa4',\n",
    "          image_width=256, image_height=256, frame_start=start, frame_end=end)\n",
    "\n",
    "vmem = VmemMap(raw)\n",
    "\n",
    "roi_png = cv2.imread('/mnt/Omer/Project/03.LinearRegionalCooling/AnalysisResult/Experiment/20181220-1/C001H001S0012/roi.png', cv2.IMREAD_GRAYSCALE)\n",
    "roi_png = roi_png/255.0\n",
    "\n",
    "vmem.roi = roi_png\n",
    "vmem.data = vmem.data * vmem.roi\n",
    "\n",
    "for i in range(vmem.data.shape[1]):\n",
    "    for j in range(vmem.data.shape[2]):\n",
    "        vmem.data[:, i, j] = FFT(vmem.data[:, i, j], vmem.data.shape[0], 0.002, fc_low=2, fc_high=50)\n",
    "vmem.smooth(size=3)"
   ]
  },
  {
   "cell_type": "code",
   "execution_count": 155,
   "metadata": {
    "collapsed": false
   },
   "outputs": [
    {
     "data": {
      "image/png": "[encoded data removed]",
      "text/plain": [
       "<matplotlib.figure.Figure at 0x7fef9a7a26a0>"
      ]
     },
     "metadata": {},
     "output_type": "display_data"
    }
   ],
   "source": [
    "raw.showFrame(0)"
   ]
  },
  {
   "cell_type": "code",
   "execution_count": 229,
   "metadata": {
    "collapsed": false
   },
   "outputs": [
    {
     "name": "stdout",
     "output_type": "stream",
     "text": [
      "40.5229442734\n",
      "39.8157507135\n"
     ]
    }
   ],
   "source": [
    "angle = 288\n",
    "x_0 = 41\n",
    "y_0 = 61\n",
    "x = 61\n",
    "y = 54\n",
    "\n",
    "print(x_0 + np.cos(angle/180*np.pi)*(x-x_0)-np.sin(angle/180*np.pi)*(y-y_0))\n",
    "print(y_0 + np.sin(angle/180*np.pi)*(x-x_0)+np.cos(angle/180*np.pi)*(y-y_0))"
   ]
  },
  {
   "cell_type": "code",
   "execution_count": 300,
   "metadata": {
    "collapsed": false
   },
   "outputs": [],
   "source": [
    "num = 790\n",
    "img = cv2.imread('/mnt/Omer/Project/03.LinearRegionalCooling/AnalysisResult/Experiment/IEEE/20181220-1/C001H001S0012/9500-10500/jet/pmap/%s.png'%'{0:04d}'.format(num), )\n",
    "img = cv2.cvtColor(img, cv2.COLOR_BGR2RGB)\n",
    "#中心\n",
    "# img[59:63,39:43] = 0\n",
    "\n",
    "img[76:80,52:56] = 255\n",
    "img[76:80,27:31] = 255\n",
    "img[53:57,19:23] = 255\n",
    "img[38:42,39:43] = 255\n",
    "img[52:56,59:63] = 255\n",
    "\n",
    "# img[22:24,70:72] = 0\n",
    "# img[41:43,73:75] = 0\n",
    "# img[52:54,57:59] = 0\n",
    "# img[44:46,40:42] = 0\n",
    "# img[25:27,37:39] = 0\n",
    "# img[14:16,53:55] = 0\n",
    "\n",
    "plt.imsave('/mnt/Omer/Project/03.LinearRegionalCooling/AnalysisResult/Experiment/IEEE/20181220-1/C001H001S0012/9500-10500/jet/vmem_%s.png'%num, img)"
   ]
  },
  {
   "cell_type": "code",
   "execution_count": 313,
   "metadata": {
    "collapsed": false
   },
   "outputs": [],
   "source": [
    "plt.figure(figsize=(8,6))\n",
    "plt.subplots_adjust(hspace=0.3) \n",
    "\n",
    "plt.subplot(5,1,1)\n",
    "# plt.plot(normilize(vmem.data[845:915, 156, 108]))\n",
    "plt.plot(normilize(vmem.data[250:, 156, 108]))\n",
    "# plt.xlim([0, 70])\n",
    "plt.xticks([])\n",
    "plt.yticks([])\n",
    "# plt.yticks([0, 0.25, 0.5, 0.75, 1.0])\n",
    "\n",
    "plt.subplot(5,1,2)\n",
    "# plt.plot(normilize(vmem.data[845:915, 156, 58]))\n",
    "plt.plot(normilize(vmem.data[250:, 156, 58]))\n",
    "# plt.xlim([0, 70])\n",
    "plt.xticks([])\n",
    "plt.yticks([])\n",
    "# plt.yticks([0, 0.25, 0.5, 0.75, 1.0])\n",
    "\n",
    "plt.subplot(5,1,3)\n",
    "# plt.plot(normilize(vmem.data[845:915, 110, 42]))\n",
    "plt.plot(normilize(vmem.data[250:, 110, 42]))\n",
    "# plt.xlim([0, 70])\n",
    "plt.xticks([])\n",
    "plt.yticks([])\n",
    "# plt.yticks([0, 0.25, 0.5, 0.75, 1.0])\n",
    "\n",
    "plt.subplot(5,1,4)\n",
    "# plt.plot(normilize(vmem.data[845:915, 80, 82]))\n",
    "plt.plot(normilize(vmem.data[250:, 80, 82]))\n",
    "# plt.xlim([0, 70])\n",
    "plt.xticks([])\n",
    "plt.yticks([])\n",
    "# plt.xticks([0, 10, 20, 30, 40, 50, 60], [850, 860, 870, 880, 890, 900, 910])\n",
    "# plt.yticks([0, 0.25, 0.5, 0.75, 1.0])\n",
    "\n",
    "plt.subplot(5,1,5)\n",
    "# plt.plot(normilize(vmem.data[845:915, 108, 122]))\n",
    "plt.plot(normilize(vmem.data[250:, 108, 122]))\n",
    "# plt.xlim([0, 70])\n",
    "plt.xticks([0, 50, 100, 150, 200, 250], [20.5, 20.6, 20.7, 20.8, 20.9, 21.0], size=20)\n",
    "plt.yticks([])\n",
    "# plt.yticks([0, 0.25, 0.5, 0.75, 1.0])\n",
    "\n",
    "plt.savefig('/mnt/Omer/Project/03.LinearRegionalCooling/AnalysisResult/Experiment/IEEE/20181220-1/C001H001S0012/9500-10500/jet/vmem_comp.png', dpi=300, transparent=True)\n",
    "plt.close()"
   ]
  },
  {
   "cell_type": "code",
   "execution_count": null,
   "metadata": {
    "collapsed": true
   },
   "outputs": [],
   "source": []
  }
 ],
 "metadata": {
  "anaconda-cloud": {},
  "kernelspec": {
   "display_name": "Python [Root]",
   "language": "python",
   "name": "Python [Root]"
  },
  "language_info": {
   "codemirror_mode": {
    "name": "ipython",
    "version": 3
   },
   "file_extension": ".py",
   "mimetype": "text/x-python",
   "name": "python",
   "nbconvert_exporter": "python",
   "pygments_lexer": "ipython3",
   "version": "3.5.2"
  }
 },
 "nbformat": 4,
 "nbformat_minor": 2
}
