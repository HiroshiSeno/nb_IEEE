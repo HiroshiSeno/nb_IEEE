{
 "cells": [
  {
   "cell_type": "code",
   "execution_count": 1,
   "metadata": {
    "collapsed": false
   },
   "outputs": [
    {
     "name": "stderr",
     "output_type": "stream",
     "text": [
      "/opt/conda/lib/python3.5/site-packages/matplotlib/font_manager.py:273: UserWarning: Matplotlib is building the font cache using fc-list. This may take a moment.\n",
      "  warnings.warn('Matplotlib is building the font cache using fc-list. This may take a moment.')\n",
      "/opt/conda/lib/python3.5/site-packages/matplotlib/font_manager.py:273: UserWarning: Matplotlib is building the font cache using fc-list. This may take a moment.\n",
      "  warnings.warn('Matplotlib is building the font cache using fc-list. This may take a moment.')\n"
     ]
    }
   ],
   "source": [
    "import numpy as np\n",
    "import matplotlib.pyplot as plt\n",
    "import os\n",
    "import subprocess\n",
    "import matplotlib\n",
    "matplotlib.font_manager._rebuild()\n",
    "plt.rcParams['font.family'] = 'Times New Roman' #全体のフォントを設定\n",
    "%matplotlib inline"
   ]
  },
  {
   "cell_type": "code",
   "execution_count": 3,
   "metadata": {
    "collapsed": false
   },
   "outputs": [],
   "source": [
    "hoge = np.zeros(300)\n",
    "\n",
    "for i in range(300):\n",
    "    num = '{0:05d}'.format(i+8701)\n",
    "    hoge[i] = np.load('/mnt/recordings/SimulationResults/0D/20171020-1/%s/xiks.npy'%num)"
   ]
  },
  {
   "cell_type": "code",
   "execution_count": 17,
   "metadata": {
    "collapsed": false
   },
   "outputs": [],
   "source": [
    "plt.plot(hoge, lw=1, linestyle='solid', color='#000000', label='x 1.00')\n",
    "plt.plot(hoge*0.75, lw=1, linestyle='dashed', color='#111111', label='x 0.75')\n",
    "plt.plot(hoge*0.5, lw=1, linestyle='dashdot', color='#222222', label='x 0.50')\n",
    "plt.plot(hoge*0.25, lw=1, linestyle='dotted', color='#333333', label='x 0.25')\n",
    "plt.xlim([0, 150])\n",
    "plt.legend(fontsize=16)\n",
    "plt.xticks(size=16)\n",
    "plt.yticks([-0.002, 0.000, 0.002, 0.004, 0.006], size=16)\n",
    "\n",
    "plt.savefig('/mnt/Omer/Project/03.LinearRegionalCooling/AnalysisResult/Simulation/LuoRudy/hoge.png', dpi=300, transparent=True)\n",
    "plt.close()"
   ]
  },
  {
   "cell_type": "code",
   "execution_count": 2,
   "metadata": {
    "collapsed": true
   },
   "outputs": [],
   "source": [
    "vmem_310 = np.zeros(300)\n",
    "vmem_308 = np.zeros(300)\n",
    "vmem_306 = np.zeros(300)\n",
    "vmem_304 = np.zeros(300)\n",
    "vmem_302 = np.zeros(300)\n",
    "\n",
    "for i in range(300):\n",
    "    num = \"{0:05d}\".format(i+8701)\n",
    "    vmem_310[i] = np.load('/mnt/recordings/SimulationResults/2D/20171020-1/%s/v.npy'%num)\n",
    "    vmem_308[i] = np.load('/mnt/recordings/SimulationResults/2D/20171020-2/%s/v.npy'%num)\n",
    "    vmem_306[i] = np.load('/mnt/recordings/SimulationResults/2D/20171020-3/%s/v.npy'%num)\n",
    "    vmem_304[i] = np.load('/mnt/recordings/SimulationResults/2D/20171020-4/%s/v.npy'%num)\n",
    "    vmem_302[i] = np.load('/mnt/recordings/SimulationResults/2D/20171020-5/%s/v.npy'%num)"
   ]
  },
  {
   "cell_type": "markdown",
   "metadata": {},
   "source": [
    "## タイトルあり"
   ]
  },
  {
   "cell_type": "code",
   "execution_count": 3,
   "metadata": {
    "collapsed": true
   },
   "outputs": [],
   "source": [
    "plt.plot(vmem_310, lw=3, label=u'310 K')\n",
    "plt.plot(vmem_308, lw=3, label=u'308 K')\n",
    "plt.plot(vmem_306, lw=3, label=u'306 K')\n",
    "plt.plot(vmem_304, lw=3, label=u'304 K')\n",
    "plt.plot(vmem_302, lw=3, label=u'302 K')\n",
    "plt.legend(loc='best', fontsize=16)\n",
    "plt.xticks(size=18)\n",
    "plt.yticks(size=18)\n",
    "plt.xlabel('Time (ms)', size=20)\n",
    "plt.ylabel('Membrane potential (mV)', size=20)\n",
    "plt.xlim([-2, 300])\n",
    "plt.ylim([-93,40])\n",
    "plt.title('APD prolongation by cooling', size=24)\n",
    "plt.tight_layout()\n",
    "plt.savefig('/mnt/recordings/AnalysisResult/Seno/simulation/Mahajan/20180129/APD_cooling_with_title.png', dpi=600)\n",
    "plt.close()"
   ]
  },
  {
   "cell_type": "markdown",
   "metadata": {
    "collapsed": true
   },
   "source": [
    "## タイトルなし"
   ]
  },
  {
   "cell_type": "code",
   "execution_count": 4,
   "metadata": {
    "collapsed": true
   },
   "outputs": [],
   "source": [
    "plt.plot(vmem_310, lw=3, label=u'310 K')\n",
    "plt.plot(vmem_308, lw=3, label=u'308 K')\n",
    "plt.plot(vmem_306, lw=3, label=u'306 K')\n",
    "plt.plot(vmem_304, lw=3, label=u'304 K')\n",
    "plt.plot(vmem_302, lw=3, label=u'302 K')\n",
    "plt.legend(loc='best', fontsize=16)\n",
    "plt.xticks(size=18)\n",
    "plt.yticks(size=18)\n",
    "plt.xlabel('Time (ms)', size=20)\n",
    "plt.ylabel('Membrane potential (mV)', size=20)\n",
    "plt.xlim([-2, 300])\n",
    "plt.ylim([-93,40])\n",
    "plt.tight_layout()\n",
    "plt.savefig('/mnt/recordings/AnalysisResult/Seno/simulation/Mahajan/20180129/APD_cooling_without_title.png', dpi=600)\n",
    "plt.close()"
   ]
  }
 ],
 "metadata": {
  "kernelspec": {
   "display_name": "Python [conda]",
   "language": "python",
   "name": "Python [conda]"
  },
  "language_info": {
   "codemirror_mode": {
    "name": "ipython",
    "version": 3
   },
   "file_extension": ".py",
   "mimetype": "text/x-python",
   "name": "python",
   "nbconvert_exporter": "python",
   "pygments_lexer": "ipython3",
   "version": "3.5.2"
  }
 },
 "nbformat": 4,
 "nbformat_minor": 2
}
