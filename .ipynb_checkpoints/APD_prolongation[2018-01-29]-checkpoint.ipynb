{
 "cells": [
  {
   "cell_type": "code",
   "execution_count": 1,
   "metadata": {
    "collapsed": true
   },
   "outputs": [],
   "source": [
    "import numpy as np\n",
    "import matplotlib.pyplot as plt\n",
    "import os\n",
    "import subprocess\n",
    "import matplotlib\n",
    "matplotlib.font_manager._rebuild()\n",
    "plt.rcParams['font.family'] = 'Times New Roman' #全体のフォントを設定\n",
    "%matplotlib inline"
   ]
  },
  {
   "cell_type": "code",
   "execution_count": 2,
   "metadata": {
    "collapsed": true
   },
   "outputs": [],
   "source": [
    "vmem_310 = np.zeros(300)\n",
    "vmem_308 = np.zeros(300)\n",
    "vmem_306 = np.zeros(300)\n",
    "vmem_304 = np.zeros(300)\n",
    "vmem_302 = np.zeros(300)\n",
    "\n",
    "for i in range(300):\n",
    "    num = \"{0:05d}\".format(i+8701)\n",
    "    vmem_310[i] = np.load('/mnt/recordings/SimulationResults/2D/20171020-1/%s/v.npy'%num)\n",
    "    vmem_308[i] = np.load('/mnt/recordings/SimulationResults/2D/20171020-2/%s/v.npy'%num)\n",
    "    vmem_306[i] = np.load('/mnt/recordings/SimulationResults/2D/20171020-3/%s/v.npy'%num)\n",
    "    vmem_304[i] = np.load('/mnt/recordings/SimulationResults/2D/20171020-4/%s/v.npy'%num)\n",
    "    vmem_302[i] = np.load('/mnt/recordings/SimulationResults/2D/20171020-5/%s/v.npy'%num)"
   ]
  },
  {
   "cell_type": "markdown",
   "metadata": {},
   "source": [
    "## タイトルあり"
   ]
  },
  {
   "cell_type": "code",
   "execution_count": 36,
   "metadata": {},
   "outputs": [],
   "source": [
    "plt.plot(vmem_310, lw=3, label=u'37 °C')\n",
    "plt.plot(vmem_308, lw=3, label=u'35 °C')\n",
    "plt.plot(vmem_306, lw=3, label=u'33 °C')\n",
    "plt.plot(vmem_304, lw=3, label=u'31 °C')\n",
    "plt.plot(vmem_302, lw=3, label=u'29 °C')\n",
    "plt.legend(loc='best', fontsize=16)\n",
    "plt.xticks(size=18)\n",
    "plt.yticks(size=18)\n",
    "plt.xlabel('Time (ms)', size=20)\n",
    "plt.ylabel('Membrane potential (mV)', size=20)\n",
    "plt.xlim([-2, 300])\n",
    "plt.ylim([-93,40])\n",
    "plt.title('APD prolongation by cooling', size=24)\n",
    "plt.tight_layout()\n",
    "plt.savefig('/mnt/recordings/AnalysisResult/Seno/simulation/Mahajan/20180129/APD_cooling_with_title.png', dpi=600)\n",
    "plt.close()"
   ]
  },
  {
   "cell_type": "markdown",
   "metadata": {
    "collapsed": true
   },
   "source": [
    "## タイトルなし"
   ]
  },
  {
   "cell_type": "code",
   "execution_count": 37,
   "metadata": {
    "collapsed": true
   },
   "outputs": [],
   "source": [
    "plt.plot(vmem_310, lw=3, label=u'37 °C')\n",
    "plt.plot(vmem_308, lw=3, label=u'35 °C')\n",
    "plt.plot(vmem_306, lw=3, label=u'33 °C')\n",
    "plt.plot(vmem_304, lw=3, label=u'31 °C')\n",
    "plt.plot(vmem_302, lw=3, label=u'29 °C')\n",
    "plt.legend(loc='best', fontsize=16)\n",
    "plt.xticks(size=18)\n",
    "plt.yticks(size=18)\n",
    "plt.xlabel('Time (ms)', size=20)\n",
    "plt.ylabel('Membrane potential (mV)', size=20)\n",
    "plt.xlim([-2, 300])\n",
    "plt.ylim([-93,40])\n",
    "plt.tight_layout()\n",
    "plt.savefig('/mnt/recordings/AnalysisResult/Seno/simulation/Mahajan/20180129/APD_cooling_without_title.png', dpi=600)\n",
    "plt.close()"
   ]
  },
  {
   "cell_type": "code",
   "execution_count": null,
   "metadata": {
    "collapsed": true
   },
   "outputs": [],
   "source": []
  }
 ],
 "metadata": {
  "kernelspec": {
   "display_name": "Python 2",
   "language": "python",
   "name": "python2"
  },
  "language_info": {
   "codemirror_mode": {
    "name": "ipython",
    "version": 2
   },
   "file_extension": ".py",
   "mimetype": "text/x-python",
   "name": "python",
   "nbconvert_exporter": "python",
   "pygments_lexer": "ipython2",
   "version": "2.7.13"
  }
 },
 "nbformat": 4,
 "nbformat_minor": 2
}
