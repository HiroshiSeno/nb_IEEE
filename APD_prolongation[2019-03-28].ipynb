{
 "cells": [
  {
   "cell_type": "code",
   "execution_count": 1,
   "metadata": {},
   "outputs": [
    {
     "name": "stderr",
     "output_type": "stream",
     "text": [
      "/opt/conda/lib/python2.7/site-packages/matplotlib/font_manager.py:273: UserWarning: Matplotlib is building the font cache using fc-list. This may take a moment.\n",
      "  warnings.warn('Matplotlib is building the font cache using fc-list. This may take a moment.')\n"
     ]
    }
   ],
   "source": [
    "import numpy as np\n",
    "import matplotlib.pyplot as plt\n",
    "import os\n",
    "import subprocess\n",
    "import matplotlib\n",
    "matplotlib.font_manager._rebuild()\n",
    "plt.rcParams['font.family'] = 'Times New Roman' #全体のフォントを設定\n",
    "%matplotlib inline"
   ]
  },
  {
   "cell_type": "code",
   "execution_count": 6,
   "metadata": {},
   "outputs": [],
   "source": [
    "vmem_310 = np.zeros(300)\n",
    "vmem_308 = np.zeros(300)\n",
    "vmem_306 = np.zeros(300)\n",
    "vmem_304 = np.zeros(300)\n",
    "vmem_302 = np.zeros(300)\n",
    "\n",
    "for i in range(300):\n",
    "    num = \"{0:05d}\".format(i+7600)\n",
    "    vmem_310[i] = np.load('/mnt/recordings/SimulationResults/0D/20180327-1/%s/v.npy'%num)\n",
    "    vmem_308[i] = np.load('/mnt/recordings/SimulationResults/0D/20180327-2/%s/v.npy'%num)\n",
    "    vmem_306[i] = np.load('/mnt/recordings/SimulationResults/0D/20180327-3/%s/v.npy'%num)\n",
    "    vmem_304[i] = np.load('/mnt/recordings/SimulationResults/0D/20180327-4/%s/v.npy'%num)\n",
    "    vmem_302[i] = np.load('/mnt/recordings/SimulationResults/0D/20180327-5/%s/v.npy'%num)"
   ]
  },
  {
   "cell_type": "markdown",
   "metadata": {},
   "source": [
    "## タイトルなし"
   ]
  },
  {
   "cell_type": "code",
   "execution_count": 37,
   "metadata": {},
   "outputs": [],
   "source": [
    "plt.plot(vmem_310, lw=2, label=u'310 K', color='#ED4630')\n",
    "plt.plot(vmem_308, lw=2, label=u'308 K', color='#E9F62F')\n",
    "plt.plot(vmem_306, lw=2, label=u'306 K', color='#71F4B4')\n",
    "plt.plot(vmem_304, lw=2, label=u'304 K', color='#036CFB')\n",
    "plt.plot(vmem_302, lw=2, label=u'302 K', color='#112EA4')\n",
    "plt.legend(bbox_to_anchor=(1.05, 0.5), loc='center left', borderaxespad=0, fontsize=14)\n",
    "# plt.legend(loc='upper right', fontsize=14)\n",
    "plt.xticks(size=16)\n",
    "plt.yticks(size=16)\n",
    "plt.xlabel('Time (ms)', size=18)\n",
    "plt.ylabel('Membrane potential (mV)', size=18)\n",
    "plt.xlim([-1, 200])\n",
    "plt.ylim([-90,60])\n",
    "# plt.title('APD prolongation by cooling', size=20)\n",
    "plt.tight_layout()\n",
    "plt.subplots_adjust(left = 0.15, right = 0.75)\n",
    "plt.savefig('/mnt/Omer/Project/03.LinearRegionalCooling/AnalysisResult/Simulation/LuoRudy/20190328/APD_cooling_with_title.png', dpi=600)\n",
    "plt.close()"
   ]
  },
  {
   "cell_type": "code",
   "execution_count": null,
   "metadata": {
    "collapsed": true
   },
   "outputs": [],
   "source": []
  }
 ],
 "metadata": {
  "kernelspec": {
   "display_name": "Python 3",
   "language": "python",
   "name": "python3"
  },
  "language_info": {
   "codemirror_mode": {
    "name": "ipython",
    "version": 3
   },
   "file_extension": ".py",
   "mimetype": "text/x-python",
   "name": "python",
   "nbconvert_exporter": "python",
   "pygments_lexer": "ipython3",
   "version": "3.5.2"
  }
 },
 "nbformat": 4,
 "nbformat_minor": 2
}
